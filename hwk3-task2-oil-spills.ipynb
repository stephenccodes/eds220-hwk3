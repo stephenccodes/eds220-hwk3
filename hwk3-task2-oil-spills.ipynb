{
 "cells": [
  {
   "cell_type": "code",
   "execution_count": 1,
   "metadata": {
    "deletable": false,
    "editable": false
   },
   "outputs": [
    {
     "ename": "FileNotFoundError",
     "evalue": "[Errno 2] No such file or directory: 'hwk3-task1-spills.ipynb'",
     "output_type": "error",
     "traceback": [
      "\u001b[0;31m---------------------------------------------------------------------------\u001b[0m",
      "\u001b[0;31mAttributeError\u001b[0m                            Traceback (most recent call last)",
      "File \u001b[0;32m/opt/anaconda3/envs/eds220-env/lib/python3.11/site-packages/nbformat/__init__.py:169\u001b[0m, in \u001b[0;36mread\u001b[0;34m(fp, as_version, capture_validation_error, **kwargs)\u001b[0m\n\u001b[1;32m    168\u001b[0m \u001b[38;5;28;01mtry\u001b[39;00m:\n\u001b[0;32m--> 169\u001b[0m     buf \u001b[38;5;241m=\u001b[39m \u001b[43mfp\u001b[49m\u001b[38;5;241;43m.\u001b[39;49m\u001b[43mread\u001b[49m()\n\u001b[1;32m    170\u001b[0m \u001b[38;5;28;01mexcept\u001b[39;00m \u001b[38;5;167;01mAttributeError\u001b[39;00m:\n",
      "\u001b[0;31mAttributeError\u001b[0m: 'str' object has no attribute 'read'",
      "\nDuring handling of the above exception, another exception occurred:\n",
      "\u001b[0;31mFileNotFoundError\u001b[0m                         Traceback (most recent call last)",
      "Cell \u001b[0;32mIn[1], line 3\u001b[0m\n\u001b[1;32m      1\u001b[0m \u001b[38;5;66;03m# Initialize Otter\u001b[39;00m\n\u001b[1;32m      2\u001b[0m \u001b[38;5;28;01mimport\u001b[39;00m \u001b[38;5;21;01motter\u001b[39;00m\n\u001b[0;32m----> 3\u001b[0m grader \u001b[38;5;241m=\u001b[39m \u001b[43motter\u001b[49m\u001b[38;5;241;43m.\u001b[39;49m\u001b[43mNotebook\u001b[49m\u001b[43m(\u001b[49m\u001b[38;5;124;43m\"\u001b[39;49m\u001b[38;5;124;43mhwk3-task1-spills.ipynb\u001b[39;49m\u001b[38;5;124;43m\"\u001b[39;49m\u001b[43m)\u001b[49m\n",
      "File \u001b[0;32m/opt/anaconda3/envs/eds220-env/lib/python3.11/site-packages/otter/check/utils.py:217\u001b[0m, in \u001b[0;36mlogs_event.<locals>.event_logger\u001b[0;34m(wrapped, self, args, kwargs)\u001b[0m\n\u001b[1;32m    215\u001b[0m \u001b[38;5;28;01mexcept\u001b[39;00m \u001b[38;5;167;01mException\u001b[39;00m \u001b[38;5;28;01mas\u001b[39;00m e:\n\u001b[1;32m    216\u001b[0m     \u001b[38;5;28mself\u001b[39m\u001b[38;5;241m.\u001b[39m_log_event(event_type, success\u001b[38;5;241m=\u001b[39m\u001b[38;5;28;01mFalse\u001b[39;00m, error\u001b[38;5;241m=\u001b[39me)\n\u001b[0;32m--> 217\u001b[0m     \u001b[38;5;28;01mraise\u001b[39;00m e\n\u001b[1;32m    219\u001b[0m \u001b[38;5;28;01mif\u001b[39;00m ret \u001b[38;5;129;01mis\u001b[39;00m \u001b[38;5;28;01mNone\u001b[39;00m:\n\u001b[1;32m    220\u001b[0m     ret \u001b[38;5;241m=\u001b[39m LoggedEventReturnValue(\u001b[38;5;28;01mNone\u001b[39;00m)\n",
      "File \u001b[0;32m/opt/anaconda3/envs/eds220-env/lib/python3.11/site-packages/otter/check/utils.py:213\u001b[0m, in \u001b[0;36mlogs_event.<locals>.event_logger\u001b[0;34m(wrapped, self, args, kwargs)\u001b[0m\n\u001b[1;32m    208\u001b[0m \u001b[38;5;250m\u001b[39m\u001b[38;5;124;03m\"\"\"\u001b[39;00m\n\u001b[1;32m    209\u001b[0m \u001b[38;5;124;03mRuns a method, catching any errors and logging the call. Returns the unwrapped return value\u001b[39;00m\n\u001b[1;32m    210\u001b[0m \u001b[38;5;124;03mof the wrapped function.\u001b[39;00m\n\u001b[1;32m    211\u001b[0m \u001b[38;5;124;03m\"\"\"\u001b[39;00m\n\u001b[1;32m    212\u001b[0m \u001b[38;5;28;01mtry\u001b[39;00m:\n\u001b[0;32m--> 213\u001b[0m     ret: Optional[LoggedEventReturnValue[T]] \u001b[38;5;241m=\u001b[39m \u001b[43mwrapped\u001b[49m\u001b[43m(\u001b[49m\u001b[38;5;241;43m*\u001b[39;49m\u001b[43margs\u001b[49m\u001b[43m,\u001b[49m\u001b[43m \u001b[49m\u001b[38;5;241;43m*\u001b[39;49m\u001b[38;5;241;43m*\u001b[39;49m\u001b[43mkwargs\u001b[49m\u001b[43m)\u001b[49m\n\u001b[1;32m    215\u001b[0m \u001b[38;5;28;01mexcept\u001b[39;00m \u001b[38;5;167;01mException\u001b[39;00m \u001b[38;5;28;01mas\u001b[39;00m e:\n\u001b[1;32m    216\u001b[0m     \u001b[38;5;28mself\u001b[39m\u001b[38;5;241m.\u001b[39m_log_event(event_type, success\u001b[38;5;241m=\u001b[39m\u001b[38;5;28;01mFalse\u001b[39;00m, error\u001b[38;5;241m=\u001b[39me)\n",
      "File \u001b[0;32m/opt/anaconda3/envs/eds220-env/lib/python3.11/site-packages/otter/check/notebook.py:144\u001b[0m, in \u001b[0;36mNotebook.__init__\u001b[0;34m(self, nb_path, tests_dir, tests_url_prefix, colab, jupyterlite)\u001b[0m\n\u001b[1;32m    140\u001b[0m     \u001b[38;5;28mself\u001b[39m\u001b[38;5;241m.\u001b[39m_notebook \u001b[38;5;241m=\u001b[39m \u001b[38;5;28mself\u001b[39m\u001b[38;5;241m.\u001b[39m_config[\u001b[38;5;124m\"\u001b[39m\u001b[38;5;124mnotebook\u001b[39m\u001b[38;5;124m\"\u001b[39m]\n\u001b[1;32m    142\u001b[0m \u001b[38;5;28;01mif\u001b[39;00m \u001b[38;5;28mself\u001b[39m\u001b[38;5;241m.\u001b[39m_notebook:\n\u001b[1;32m    143\u001b[0m     \u001b[38;5;28mself\u001b[39m\u001b[38;5;241m.\u001b[39m_nbmeta_config \u001b[38;5;241m=\u001b[39m NBMetadataConfig\u001b[38;5;241m.\u001b[39mfrom_notebook(\n\u001b[0;32m--> 144\u001b[0m         \u001b[43mnbf\u001b[49m\u001b[38;5;241;43m.\u001b[39;49m\u001b[43mread\u001b[49m\u001b[43m(\u001b[49m\u001b[38;5;28;43mself\u001b[39;49m\u001b[38;5;241;43m.\u001b[39;49m\u001b[43m_notebook\u001b[49m\u001b[43m,\u001b[49m\u001b[43m \u001b[49m\u001b[43mnbf\u001b[49m\u001b[38;5;241;43m.\u001b[39;49m\u001b[43mNO_CONVERT\u001b[49m\u001b[43m)\u001b[49m)\n\u001b[1;32m    145\u001b[0m \u001b[38;5;28;01melse\u001b[39;00m:\n\u001b[1;32m    146\u001b[0m     \u001b[38;5;28mself\u001b[39m\u001b[38;5;241m.\u001b[39m_nbmeta_config \u001b[38;5;241m=\u001b[39m NBMetadataConfig()\n",
      "File \u001b[0;32m/opt/anaconda3/envs/eds220-env/lib/python3.11/site-packages/nbformat/__init__.py:171\u001b[0m, in \u001b[0;36mread\u001b[0;34m(fp, as_version, capture_validation_error, **kwargs)\u001b[0m\n\u001b[1;32m    169\u001b[0m     buf \u001b[38;5;241m=\u001b[39m fp\u001b[38;5;241m.\u001b[39mread()\n\u001b[1;32m    170\u001b[0m \u001b[38;5;28;01mexcept\u001b[39;00m \u001b[38;5;167;01mAttributeError\u001b[39;00m:\n\u001b[0;32m--> 171\u001b[0m     \u001b[38;5;28;01mwith\u001b[39;00m \u001b[38;5;28;43mopen\u001b[39;49m\u001b[43m(\u001b[49m\u001b[43mfp\u001b[49m\u001b[43m,\u001b[49m\u001b[43m \u001b[49m\u001b[43mencoding\u001b[49m\u001b[38;5;241;43m=\u001b[39;49m\u001b[38;5;124;43m\"\u001b[39;49m\u001b[38;5;124;43mutf8\u001b[39;49m\u001b[38;5;124;43m\"\u001b[39;49m\u001b[43m)\u001b[49m \u001b[38;5;28;01mas\u001b[39;00m f:  \u001b[38;5;66;03m# noqa: PTH123\u001b[39;00m\n\u001b[1;32m    172\u001b[0m         \u001b[38;5;28;01mreturn\u001b[39;00m reads(f\u001b[38;5;241m.\u001b[39mread(), as_version, capture_validation_error, \u001b[38;5;241m*\u001b[39m\u001b[38;5;241m*\u001b[39mkwargs)\n\u001b[1;32m    174\u001b[0m \u001b[38;5;28;01mreturn\u001b[39;00m reads(buf, as_version, capture_validation_error, \u001b[38;5;241m*\u001b[39m\u001b[38;5;241m*\u001b[39mkwargs)\n",
      "\u001b[0;31mFileNotFoundError\u001b[0m: [Errno 2] No such file or directory: 'hwk3-task1-spills.ipynb'"
     ]
    }
   ],
   "source": [
    "# Initialize Otter\n",
    "import otter\n",
    "grader = otter.Notebook(\"hwk3-task1-spills.ipynb\")"
   ]
  },
  {
   "cell_type": "markdown",
   "metadata": {},
   "source": [
    "# Task 1: Visualizing oil spills in NY State\n",
    "\n",
    "## Instructions\n",
    "\n",
    "- First, update the following cell to have a link to *your* Homework 3 GitHub repository:\n",
    "\n",
    "https://github.com/stephenccodes/eds220-hwk3.git\n",
    "\n",
    "\n",
    "- Review the [complete rubric for this task](https://docs.google.com/document/d/1Ce4EO3MEHW5uLks4x8BECWlkim2bcmxB4f8Qo4z26z8/edit?usp=sharing) before starting.\n",
    "\n",
    "- **Meaningful commits should be made every time you finish a major step.** We'll check your repository and view the commit history.\n",
    "\n",
    "- Comment mindfully in a way that enriches your code. Comments should follow best practices.\n",
    "\n",
    "- **Do not update the top cell with the `otter` import**, this is used internally for grading.\n",
    "\n",
    "- Delete all the comments initially included in this notebook (ex: `# Your code here`).\n",
    "\n",
    "\n",
    "## About the data\n",
    "In this task you will use two datsets:\n",
    "\n",
    "### First dataset: oil spills data\n",
    "\n",
    "The first dataset contains information about [spilling incidents in the state of New York](https://data.ny.gov/Energy-Environment/Spill-Incidents/u44d-k5fk). \n",
    "You can find extra information and metadata for this dataset in the `NYSDEC_SpillIncidents_Overview.pdf` and `NYSDEC_SpillIncidents_DataDictionary.pdf` documents available at the portal.\n",
    "\n",
    "### Second dataset: TIGER shapefile\n",
    "\n",
    "The second dataset is the [the 2023 Counties (and equivalent) TIGER shapefile](https://www.census.gov/geographies/mapping-files/time-series/geo/tiger-line-file.2022.html#list-tab-790442341) from the Census Bureau. You can check the [metadata for all the TIGER shapefiles here](https://www.census.gov/programs-surveys/geography/technical-documentation/complete-technical-documentation/tiger-geo-line.html). "
   ]
  },
  {
   "cell_type": "markdown",
   "metadata": {},
   "source": [
    "\n",
    "## 1. File management\n",
    "a. Create a `data/` directory inside your `eds220-hwk3` directory. If you download any data, it should be transferred into this folder. \n",
    "\n",
    "b. Add the `data/` directory to your `.gitignore` file and push your changes. This is IMPORTANT: the datasets we'll be working with are large and they will most likely jam your `git` workflow if you try to push them. Your `data/` directory should not be in your GitHub repository."
   ]
  },
  {
   "cell_type": "markdown",
   "metadata": {},
   "source": [
    "## 2. Datasets description\n",
    "Read the metadata for both datsets and write a description about each one. Indicate the date sources and date of access.\n"
   ]
  },
  {
   "cell_type": "markdown",
   "metadata": {},
   "source": [
    "**Spill Incidents**\n",
    "\n",
    "This dataset contains records of petroleum and other hazardous material spills.\n",
    "\n",
    "Included is the DEC region and unique seven-digit spill number, program facility name, spill date/time, location, spill source and cause, material(s) and material type spilled, quantity spilled and recovered, units measured, surface water bodies affected, and close date.\n",
    "\n",
    "Date Accessed: 11/6/24\n",
    "\n",
    "[https://data.ny.gov/Energy-Environment/Spill-Incidents/u44d-k5fk/about_data](https://data.ny.gov/Energy-Environment/Spill-Incidents/u44d-k5fk/about_data)\n",
    "\n",
    "**TIGER Census Bureau shapefile**\n",
    "\n",
    "The TIGER/Line Shapefiles are extracts of selected geographic and cartographic information from the\n",
    "Census Bureau's Master Address File (MAF)/Topologically Integrated Geographic Encoding and\n",
    "Referencing (TIGER) System. The shapefiles include information for the fifty states, the District of\n",
    "Columbia, Puerto Rico, and the Island Areas (American Samoa, the Commonwealth of the Northern\n",
    "Mariana Islands, Guam, and the United States Virgin Islands). The shapefiles include polygon boundaries\n",
    "of geographic areas and features, linear features including roads and hydrography, and point features.\n",
    "These shapefiles do not contain any sensitive data or confidential data.\n",
    "\n",
    "Date Accessed: 11/6/24\n",
    "\n",
    "[https://www.census.gov/geographies/mapping-files/time-series/geo/tiger-line-file.2022.html#list-tab-790442341](https://www.census.gov/geographies/mapping-files/time-series/geo/tiger-line-file.2022.html#list-tab-790442341)"
   ]
  },
  {
   "cell_type": "markdown",
   "metadata": {
    "tags": []
   },
   "source": [
    "## Complete Workflow"
   ]
  },
  {
   "cell_type": "code",
   "execution_count": null,
   "metadata": {},
   "outputs": [],
   "source": [
    "#######################\n",
    "\n",
    "FINISHED WORKFLOW HERE\n",
    "\n",
    "#######################"
   ]
  },
  {
   "cell_type": "markdown",
   "metadata": {},
   "source": [
    "## 3. Import libraries"
   ]
  },
  {
   "cell_type": "code",
   "execution_count": 1,
   "metadata": {},
   "outputs": [],
   "source": [
    "# Import necesasry libraries\n",
    "import os\n",
    "import pandas as pd\n",
    "import numpy as np\n",
    "import matplotlib.pyplot as plt\n",
    "import geopandas as gpd"
   ]
  },
  {
   "cell_type": "markdown",
   "metadata": {},
   "source": [
    "## 4. Import data \n",
    "In the next cell:\n",
    "\n",
    "- Import the NY spills data as a variable named `spills`. \n",
    "- Import the US counties data as a variable named `counties`.\n",
    "\n",
    "If you are using file paths to access the data, these should be constructed using the `os` package."
   ]
  },
  {
   "cell_type": "code",
   "execution_count": 2,
   "metadata": {
    "tags": []
   },
   "outputs": [
    {
     "data": {
      "text/plain": [
       "'/Users/scarroll/MEDS/EDS-220/eds220-hwk3'"
      ]
     },
     "execution_count": 2,
     "metadata": {},
     "output_type": "execute_result"
    }
   ],
   "source": [
    "# Show the working directory\n",
    "os.getcwd() "
   ]
  },
  {
   "cell_type": "code",
   "execution_count": 3,
   "metadata": {
    "tags": []
   },
   "outputs": [
    {
     "data": {
      "text/html": [
       "<div>\n",
       "<style scoped>\n",
       "    .dataframe tbody tr th:only-of-type {\n",
       "        vertical-align: middle;\n",
       "    }\n",
       "\n",
       "    .dataframe tbody tr th {\n",
       "        vertical-align: top;\n",
       "    }\n",
       "\n",
       "    .dataframe thead th {\n",
       "        text-align: right;\n",
       "    }\n",
       "</style>\n",
       "<table border=\"1\" class=\"dataframe\">\n",
       "  <thead>\n",
       "    <tr style=\"text-align: right;\">\n",
       "      <th></th>\n",
       "      <th>Spill Number</th>\n",
       "      <th>Program Facility Name</th>\n",
       "      <th>Street 1</th>\n",
       "      <th>Street 2</th>\n",
       "      <th>Locality</th>\n",
       "      <th>County</th>\n",
       "      <th>ZIP Code</th>\n",
       "      <th>SWIS Code</th>\n",
       "      <th>DEC Region</th>\n",
       "      <th>Spill Date</th>\n",
       "      <th>Received Date</th>\n",
       "      <th>Contributing Factor</th>\n",
       "      <th>Waterbody</th>\n",
       "      <th>Source</th>\n",
       "      <th>Close Date</th>\n",
       "      <th>Material Name</th>\n",
       "      <th>Material Family</th>\n",
       "      <th>Quantity</th>\n",
       "      <th>Units</th>\n",
       "      <th>Recovered</th>\n",
       "    </tr>\n",
       "  </thead>\n",
       "  <tbody>\n",
       "    <tr>\n",
       "      <th>0</th>\n",
       "      <td>107132</td>\n",
       "      <td>MH 864</td>\n",
       "      <td>RT 119/MILLWOOD RD</td>\n",
       "      <td>NaN</td>\n",
       "      <td>ELMSFORD</td>\n",
       "      <td>Westchester</td>\n",
       "      <td>NaN</td>\n",
       "      <td>6000</td>\n",
       "      <td>3</td>\n",
       "      <td>10/10/2001</td>\n",
       "      <td>10/10/2001</td>\n",
       "      <td>Unknown</td>\n",
       "      <td>NaN</td>\n",
       "      <td>Unknown</td>\n",
       "      <td>10/15/2001</td>\n",
       "      <td>unknown material</td>\n",
       "      <td>Other</td>\n",
       "      <td>10.0</td>\n",
       "      <td>Gallons</td>\n",
       "      <td>0.0</td>\n",
       "    </tr>\n",
       "    <tr>\n",
       "      <th>1</th>\n",
       "      <td>405586</td>\n",
       "      <td>BOWRY BAY</td>\n",
       "      <td>WATER POLL CONTROL</td>\n",
       "      <td>NaN</td>\n",
       "      <td>QUEENS</td>\n",
       "      <td>Queens</td>\n",
       "      <td>NaN</td>\n",
       "      <td>4101</td>\n",
       "      <td>2</td>\n",
       "      <td>08/21/2004</td>\n",
       "      <td>08/21/2004</td>\n",
       "      <td>Other</td>\n",
       "      <td>EAST RIVER</td>\n",
       "      <td>Unknown</td>\n",
       "      <td>09/17/2004</td>\n",
       "      <td>raw sewage</td>\n",
       "      <td>Other</td>\n",
       "      <td>0.0</td>\n",
       "      <td>NaN</td>\n",
       "      <td>0.0</td>\n",
       "    </tr>\n",
       "    <tr>\n",
       "      <th>2</th>\n",
       "      <td>405586</td>\n",
       "      <td>BOWRY BAY</td>\n",
       "      <td>WATER POLL CONTROL</td>\n",
       "      <td>NaN</td>\n",
       "      <td>QUEENS</td>\n",
       "      <td>Queens</td>\n",
       "      <td>NaN</td>\n",
       "      <td>4101</td>\n",
       "      <td>2</td>\n",
       "      <td>08/21/2004</td>\n",
       "      <td>08/21/2004</td>\n",
       "      <td>Other</td>\n",
       "      <td>EAST RIVER</td>\n",
       "      <td>Unknown</td>\n",
       "      <td>09/17/2004</td>\n",
       "      <td>raw sewage</td>\n",
       "      <td>Other</td>\n",
       "      <td>0.0</td>\n",
       "      <td>Pounds</td>\n",
       "      <td>0.0</td>\n",
       "    </tr>\n",
       "    <tr>\n",
       "      <th>3</th>\n",
       "      <td>204667</td>\n",
       "      <td>POLE 16091</td>\n",
       "      <td>GRACE AVE/BURKE AVE</td>\n",
       "      <td>NaN</td>\n",
       "      <td>BRONX</td>\n",
       "      <td>Bronx</td>\n",
       "      <td>NaN</td>\n",
       "      <td>301</td>\n",
       "      <td>2</td>\n",
       "      <td>08/02/2002</td>\n",
       "      <td>08/02/2002</td>\n",
       "      <td>Equipment Failure</td>\n",
       "      <td>NaN</td>\n",
       "      <td>Commercial/Industrial</td>\n",
       "      <td>10/28/2002</td>\n",
       "      <td>transformer oil</td>\n",
       "      <td>Petroleum</td>\n",
       "      <td>1.0</td>\n",
       "      <td>Gallons</td>\n",
       "      <td>0.0</td>\n",
       "    </tr>\n",
       "    <tr>\n",
       "      <th>4</th>\n",
       "      <td>210559</td>\n",
       "      <td>POLE ON</td>\n",
       "      <td>FERDALE LOMIS RD / RT 52</td>\n",
       "      <td>NaN</td>\n",
       "      <td>LIBERTY</td>\n",
       "      <td>Sullivan</td>\n",
       "      <td>NaN</td>\n",
       "      <td>5336</td>\n",
       "      <td>3</td>\n",
       "      <td>01/20/2003</td>\n",
       "      <td>01/20/2003</td>\n",
       "      <td>Traffic Accident</td>\n",
       "      <td>NaN</td>\n",
       "      <td>Commercial/Industrial</td>\n",
       "      <td>01/22/2003</td>\n",
       "      <td>transformer oil</td>\n",
       "      <td>Petroleum</td>\n",
       "      <td>6.0</td>\n",
       "      <td>Gallons</td>\n",
       "      <td>6.0</td>\n",
       "    </tr>\n",
       "    <tr>\n",
       "      <th>...</th>\n",
       "      <td>...</td>\n",
       "      <td>...</td>\n",
       "      <td>...</td>\n",
       "      <td>...</td>\n",
       "      <td>...</td>\n",
       "      <td>...</td>\n",
       "      <td>...</td>\n",
       "      <td>...</td>\n",
       "      <td>...</td>\n",
       "      <td>...</td>\n",
       "      <td>...</td>\n",
       "      <td>...</td>\n",
       "      <td>...</td>\n",
       "      <td>...</td>\n",
       "      <td>...</td>\n",
       "      <td>...</td>\n",
       "      <td>...</td>\n",
       "      <td>...</td>\n",
       "      <td>...</td>\n",
       "      <td>...</td>\n",
       "    </tr>\n",
       "    <tr>\n",
       "      <th>553132</th>\n",
       "      <td>400932</td>\n",
       "      <td>`-NYCT</td>\n",
       "      <td>WATER/COENTIS SLIP</td>\n",
       "      <td>NaN</td>\n",
       "      <td>MANHATTAN</td>\n",
       "      <td>New York</td>\n",
       "      <td>NaN</td>\n",
       "      <td>3101</td>\n",
       "      <td>2</td>\n",
       "      <td>04/27/2004</td>\n",
       "      <td>04/27/2004</td>\n",
       "      <td>Equipment Failure</td>\n",
       "      <td>NaN</td>\n",
       "      <td>Institutional, Educational, Gov., Other</td>\n",
       "      <td>04/29/2004</td>\n",
       "      <td>unknown hazardous material</td>\n",
       "      <td>Hazardous Material</td>\n",
       "      <td>0.0</td>\n",
       "      <td>Pounds</td>\n",
       "      <td>0.0</td>\n",
       "    </tr>\n",
       "    <tr>\n",
       "      <th>553133</th>\n",
       "      <td>9904003</td>\n",
       "      <td>`-NYCT</td>\n",
       "      <td>5TH AND WEST 50 ST</td>\n",
       "      <td>NaN</td>\n",
       "      <td>MANHATTAN</td>\n",
       "      <td>New York</td>\n",
       "      <td>NaN</td>\n",
       "      <td>3101</td>\n",
       "      <td>2</td>\n",
       "      <td>07/06/1999</td>\n",
       "      <td>07/06/1999</td>\n",
       "      <td>Housekeeping</td>\n",
       "      <td>NaN</td>\n",
       "      <td>Commercial Vehicle</td>\n",
       "      <td>03/03/2009</td>\n",
       "      <td>diesel</td>\n",
       "      <td>Petroleum</td>\n",
       "      <td>20.0</td>\n",
       "      <td>Gallons</td>\n",
       "      <td>0.0</td>\n",
       "    </tr>\n",
       "    <tr>\n",
       "      <th>553134</th>\n",
       "      <td>9213322</td>\n",
       "      <td>`-NYCT / 146 ST</td>\n",
       "      <td>721 LENOX AVE</td>\n",
       "      <td>NaN</td>\n",
       "      <td>MANHATTAN</td>\n",
       "      <td>New York</td>\n",
       "      <td>NaN</td>\n",
       "      <td>3101</td>\n",
       "      <td>2</td>\n",
       "      <td>03/02/1993</td>\n",
       "      <td>03/02/1993</td>\n",
       "      <td>Tank Overfill</td>\n",
       "      <td>NaN</td>\n",
       "      <td>Commercial/Industrial</td>\n",
       "      <td>02/10/2003</td>\n",
       "      <td>#2 fuel oil</td>\n",
       "      <td>Petroleum</td>\n",
       "      <td>200.0</td>\n",
       "      <td>Gallons</td>\n",
       "      <td>0.0</td>\n",
       "    </tr>\n",
       "    <tr>\n",
       "      <th>553135</th>\n",
       "      <td>8909580</td>\n",
       "      <td>`-NYCT BUS DEPOT - S I</td>\n",
       "      <td>CASTLETON AVE @ RECTOR ST</td>\n",
       "      <td>NaN</td>\n",
       "      <td>STATEN ISLAND</td>\n",
       "      <td>Richmond</td>\n",
       "      <td>NaN</td>\n",
       "      <td>4301</td>\n",
       "      <td>2</td>\n",
       "      <td>01/05/1990</td>\n",
       "      <td>01/05/1990</td>\n",
       "      <td>Abandoned Drums</td>\n",
       "      <td>NaN</td>\n",
       "      <td>Commercial/Industrial</td>\n",
       "      <td>01/05/1990</td>\n",
       "      <td>unknown petroleum</td>\n",
       "      <td>Petroleum</td>\n",
       "      <td>0.0</td>\n",
       "      <td>NaN</td>\n",
       "      <td>0.0</td>\n",
       "    </tr>\n",
       "    <tr>\n",
       "      <th>553136</th>\n",
       "      <td>102768</td>\n",
       "      <td>`-RAVENSWOOD</td>\n",
       "      <td>3854 VERON BLVD</td>\n",
       "      <td>NaN</td>\n",
       "      <td>LONG ISLAND CITY</td>\n",
       "      <td>Queens</td>\n",
       "      <td>NaN</td>\n",
       "      <td>4101</td>\n",
       "      <td>2</td>\n",
       "      <td>06/13/2001</td>\n",
       "      <td>06/13/2001</td>\n",
       "      <td>Unknown</td>\n",
       "      <td>EAST RIVER</td>\n",
       "      <td>Unknown</td>\n",
       "      <td>05/07/2013</td>\n",
       "      <td>unknown petroleum</td>\n",
       "      <td>Petroleum</td>\n",
       "      <td>0.0</td>\n",
       "      <td>Gallons</td>\n",
       "      <td>0.0</td>\n",
       "    </tr>\n",
       "  </tbody>\n",
       "</table>\n",
       "<p>553137 rows × 20 columns</p>\n",
       "</div>"
      ],
      "text/plain": [
       "        Spill Number   Program Facility Name                   Street 1  \\\n",
       "0             107132                  MH 864         RT 119/MILLWOOD RD   \n",
       "1             405586               BOWRY BAY         WATER POLL CONTROL   \n",
       "2             405586               BOWRY BAY         WATER POLL CONTROL   \n",
       "3             204667              POLE 16091        GRACE AVE/BURKE AVE   \n",
       "4             210559                 POLE ON   FERDALE LOMIS RD / RT 52   \n",
       "...              ...                     ...                        ...   \n",
       "553132        400932                  `-NYCT         WATER/COENTIS SLIP   \n",
       "553133       9904003                  `-NYCT         5TH AND WEST 50 ST   \n",
       "553134       9213322         `-NYCT / 146 ST              721 LENOX AVE   \n",
       "553135       8909580  `-NYCT BUS DEPOT - S I  CASTLETON AVE @ RECTOR ST   \n",
       "553136        102768            `-RAVENSWOOD            3854 VERON BLVD   \n",
       "\n",
       "       Street 2          Locality       County ZIP Code  SWIS Code  \\\n",
       "0           NaN          ELMSFORD  Westchester      NaN       6000   \n",
       "1           NaN            QUEENS       Queens      NaN       4101   \n",
       "2           NaN            QUEENS       Queens      NaN       4101   \n",
       "3           NaN             BRONX        Bronx      NaN        301   \n",
       "4           NaN           LIBERTY     Sullivan      NaN       5336   \n",
       "...         ...               ...          ...      ...        ...   \n",
       "553132      NaN         MANHATTAN     New York      NaN       3101   \n",
       "553133      NaN         MANHATTAN     New York      NaN       3101   \n",
       "553134      NaN         MANHATTAN     New York      NaN       3101   \n",
       "553135      NaN     STATEN ISLAND     Richmond      NaN       4301   \n",
       "553136      NaN  LONG ISLAND CITY       Queens      NaN       4101   \n",
       "\n",
       "        DEC Region  Spill Date Received Date Contributing Factor   Waterbody  \\\n",
       "0                3  10/10/2001    10/10/2001             Unknown         NaN   \n",
       "1                2  08/21/2004    08/21/2004               Other  EAST RIVER   \n",
       "2                2  08/21/2004    08/21/2004               Other  EAST RIVER   \n",
       "3                2  08/02/2002    08/02/2002   Equipment Failure         NaN   \n",
       "4                3  01/20/2003    01/20/2003    Traffic Accident         NaN   \n",
       "...            ...         ...           ...                 ...         ...   \n",
       "553132           2  04/27/2004    04/27/2004   Equipment Failure         NaN   \n",
       "553133           2  07/06/1999    07/06/1999        Housekeeping         NaN   \n",
       "553134           2  03/02/1993    03/02/1993       Tank Overfill         NaN   \n",
       "553135           2  01/05/1990    01/05/1990     Abandoned Drums         NaN   \n",
       "553136           2  06/13/2001    06/13/2001             Unknown  EAST RIVER   \n",
       "\n",
       "                                         Source  Close Date  \\\n",
       "0                                       Unknown  10/15/2001   \n",
       "1                                       Unknown  09/17/2004   \n",
       "2                                       Unknown  09/17/2004   \n",
       "3                         Commercial/Industrial  10/28/2002   \n",
       "4                         Commercial/Industrial  01/22/2003   \n",
       "...                                         ...         ...   \n",
       "553132  Institutional, Educational, Gov., Other  04/29/2004   \n",
       "553133                       Commercial Vehicle  03/03/2009   \n",
       "553134                    Commercial/Industrial  02/10/2003   \n",
       "553135                    Commercial/Industrial  01/05/1990   \n",
       "553136                                  Unknown  05/07/2013   \n",
       "\n",
       "                     Material Name     Material Family  Quantity    Units  \\\n",
       "0                 unknown material               Other      10.0  Gallons   \n",
       "1                       raw sewage               Other       0.0      NaN   \n",
       "2                       raw sewage               Other       0.0   Pounds   \n",
       "3                  transformer oil           Petroleum       1.0  Gallons   \n",
       "4                  transformer oil           Petroleum       6.0  Gallons   \n",
       "...                            ...                 ...       ...      ...   \n",
       "553132  unknown hazardous material  Hazardous Material       0.0   Pounds   \n",
       "553133                      diesel           Petroleum      20.0  Gallons   \n",
       "553134                 #2 fuel oil           Petroleum     200.0  Gallons   \n",
       "553135           unknown petroleum           Petroleum       0.0      NaN   \n",
       "553136           unknown petroleum           Petroleum       0.0  Gallons   \n",
       "\n",
       "        Recovered  \n",
       "0             0.0  \n",
       "1             0.0  \n",
       "2             0.0  \n",
       "3             0.0  \n",
       "4             6.0  \n",
       "...           ...  \n",
       "553132        0.0  \n",
       "553133        0.0  \n",
       "553134        0.0  \n",
       "553135        0.0  \n",
       "553136        0.0  \n",
       "\n",
       "[553137 rows x 20 columns]"
      ]
     },
     "execution_count": 3,
     "metadata": {},
     "output_type": "execute_result"
    }
   ],
   "source": [
    "# Define the file path using os.path\n",
    "fp_spills = os.path.join('data', 'Spill_Incidents_20241106.csv')\n",
    "\n",
    "# Read in the NY spills data\n",
    "spills = pd.read_csv(fp_spills)\n",
    "\n",
    "spills\n"
   ]
  },
  {
   "cell_type": "code",
   "execution_count": 4,
   "metadata": {
    "tags": []
   },
   "outputs": [
    {
     "name": "stderr",
     "output_type": "stream",
     "text": [
      "ERROR 1: PROJ: proj_create_from_database: Open of /opt/anaconda3/envs/eds220-env/share/proj failed\n"
     ]
    },
    {
     "data": {
      "text/html": [
       "<div>\n",
       "<style scoped>\n",
       "    .dataframe tbody tr th:only-of-type {\n",
       "        vertical-align: middle;\n",
       "    }\n",
       "\n",
       "    .dataframe tbody tr th {\n",
       "        vertical-align: top;\n",
       "    }\n",
       "\n",
       "    .dataframe thead th {\n",
       "        text-align: right;\n",
       "    }\n",
       "</style>\n",
       "<table border=\"1\" class=\"dataframe\">\n",
       "  <thead>\n",
       "    <tr style=\"text-align: right;\">\n",
       "      <th></th>\n",
       "      <th>statefp</th>\n",
       "      <th>countyfp</th>\n",
       "      <th>countyns</th>\n",
       "      <th>geoid</th>\n",
       "      <th>geoidfq</th>\n",
       "      <th>name</th>\n",
       "      <th>namelsad</th>\n",
       "      <th>lsad</th>\n",
       "      <th>classfp</th>\n",
       "      <th>mtfcc</th>\n",
       "      <th>csafp</th>\n",
       "      <th>cbsafp</th>\n",
       "      <th>metdivfp</th>\n",
       "      <th>funcstat</th>\n",
       "      <th>aland</th>\n",
       "      <th>awater</th>\n",
       "      <th>intptlat</th>\n",
       "      <th>intptlon</th>\n",
       "      <th>geometry</th>\n",
       "    </tr>\n",
       "  </thead>\n",
       "  <tbody>\n",
       "    <tr>\n",
       "      <th>0</th>\n",
       "      <td>31</td>\n",
       "      <td>039</td>\n",
       "      <td>00835841</td>\n",
       "      <td>31039</td>\n",
       "      <td>0500000US31039</td>\n",
       "      <td>Cuming</td>\n",
       "      <td>Cuming County</td>\n",
       "      <td>06</td>\n",
       "      <td>H1</td>\n",
       "      <td>G4020</td>\n",
       "      <td>None</td>\n",
       "      <td>None</td>\n",
       "      <td>None</td>\n",
       "      <td>A</td>\n",
       "      <td>1477563029</td>\n",
       "      <td>10772508</td>\n",
       "      <td>+41.9158651</td>\n",
       "      <td>-096.7885168</td>\n",
       "      <td>POLYGON ((-96.55515 41.91587, -96.55515 41.914...</td>\n",
       "    </tr>\n",
       "    <tr>\n",
       "      <th>1</th>\n",
       "      <td>53</td>\n",
       "      <td>069</td>\n",
       "      <td>01513275</td>\n",
       "      <td>53069</td>\n",
       "      <td>0500000US53069</td>\n",
       "      <td>Wahkiakum</td>\n",
       "      <td>Wahkiakum County</td>\n",
       "      <td>06</td>\n",
       "      <td>H1</td>\n",
       "      <td>G4020</td>\n",
       "      <td>None</td>\n",
       "      <td>None</td>\n",
       "      <td>None</td>\n",
       "      <td>A</td>\n",
       "      <td>680980771</td>\n",
       "      <td>61564427</td>\n",
       "      <td>+46.2946377</td>\n",
       "      <td>-123.4244583</td>\n",
       "      <td>POLYGON ((-123.72755 46.26449, -123.72755 46.2...</td>\n",
       "    </tr>\n",
       "    <tr>\n",
       "      <th>2</th>\n",
       "      <td>35</td>\n",
       "      <td>011</td>\n",
       "      <td>00933054</td>\n",
       "      <td>35011</td>\n",
       "      <td>0500000US35011</td>\n",
       "      <td>De Baca</td>\n",
       "      <td>De Baca County</td>\n",
       "      <td>06</td>\n",
       "      <td>H1</td>\n",
       "      <td>G4020</td>\n",
       "      <td>None</td>\n",
       "      <td>None</td>\n",
       "      <td>None</td>\n",
       "      <td>A</td>\n",
       "      <td>6016818946</td>\n",
       "      <td>29090018</td>\n",
       "      <td>+34.3592729</td>\n",
       "      <td>-104.3686961</td>\n",
       "      <td>POLYGON ((-104.89337 34.08894, -104.89337 34.0...</td>\n",
       "    </tr>\n",
       "    <tr>\n",
       "      <th>3</th>\n",
       "      <td>31</td>\n",
       "      <td>109</td>\n",
       "      <td>00835876</td>\n",
       "      <td>31109</td>\n",
       "      <td>0500000US31109</td>\n",
       "      <td>Lancaster</td>\n",
       "      <td>Lancaster County</td>\n",
       "      <td>06</td>\n",
       "      <td>H1</td>\n",
       "      <td>G4020</td>\n",
       "      <td>339</td>\n",
       "      <td>30700</td>\n",
       "      <td>None</td>\n",
       "      <td>A</td>\n",
       "      <td>2169269688</td>\n",
       "      <td>22850324</td>\n",
       "      <td>+40.7835474</td>\n",
       "      <td>-096.6886584</td>\n",
       "      <td>POLYGON ((-96.68493 40.52330, -96.69219 40.523...</td>\n",
       "    </tr>\n",
       "    <tr>\n",
       "      <th>4</th>\n",
       "      <td>31</td>\n",
       "      <td>129</td>\n",
       "      <td>00835886</td>\n",
       "      <td>31129</td>\n",
       "      <td>0500000US31129</td>\n",
       "      <td>Nuckolls</td>\n",
       "      <td>Nuckolls County</td>\n",
       "      <td>06</td>\n",
       "      <td>H1</td>\n",
       "      <td>G4020</td>\n",
       "      <td>None</td>\n",
       "      <td>None</td>\n",
       "      <td>None</td>\n",
       "      <td>A</td>\n",
       "      <td>1489645187</td>\n",
       "      <td>1718484</td>\n",
       "      <td>+40.1764918</td>\n",
       "      <td>-098.0468422</td>\n",
       "      <td>POLYGON ((-98.27370 40.11840, -98.27374 40.122...</td>\n",
       "    </tr>\n",
       "  </tbody>\n",
       "</table>\n",
       "</div>"
      ],
      "text/plain": [
       "  statefp countyfp  countyns  geoid         geoidfq       name  \\\n",
       "0      31      039  00835841  31039  0500000US31039     Cuming   \n",
       "1      53      069  01513275  53069  0500000US53069  Wahkiakum   \n",
       "2      35      011  00933054  35011  0500000US35011    De Baca   \n",
       "3      31      109  00835876  31109  0500000US31109  Lancaster   \n",
       "4      31      129  00835886  31129  0500000US31129   Nuckolls   \n",
       "\n",
       "           namelsad lsad classfp  mtfcc csafp cbsafp metdivfp funcstat  \\\n",
       "0     Cuming County   06      H1  G4020  None   None     None        A   \n",
       "1  Wahkiakum County   06      H1  G4020  None   None     None        A   \n",
       "2    De Baca County   06      H1  G4020  None   None     None        A   \n",
       "3  Lancaster County   06      H1  G4020   339  30700     None        A   \n",
       "4   Nuckolls County   06      H1  G4020  None   None     None        A   \n",
       "\n",
       "        aland    awater     intptlat      intptlon  \\\n",
       "0  1477563029  10772508  +41.9158651  -096.7885168   \n",
       "1   680980771  61564427  +46.2946377  -123.4244583   \n",
       "2  6016818946  29090018  +34.3592729  -104.3686961   \n",
       "3  2169269688  22850324  +40.7835474  -096.6886584   \n",
       "4  1489645187   1718484  +40.1764918  -098.0468422   \n",
       "\n",
       "                                            geometry  \n",
       "0  POLYGON ((-96.55515 41.91587, -96.55515 41.914...  \n",
       "1  POLYGON ((-123.72755 46.26449, -123.72755 46.2...  \n",
       "2  POLYGON ((-104.89337 34.08894, -104.89337 34.0...  \n",
       "3  POLYGON ((-96.68493 40.52330, -96.69219 40.523...  \n",
       "4  POLYGON ((-98.27370 40.11840, -98.27374 40.122...  "
      ]
     },
     "execution_count": 4,
     "metadata": {},
     "output_type": "execute_result"
    }
   ],
   "source": [
    "# File path to counties data\n",
    "fp_counties = os.path.join('data/tl_2023_us_county/tl_2023_us_county.shp')\n",
    "\n",
    "# Read in the US counties data\n",
    "counties = gpd.read_file(fp_counties)\n",
    "counties.columns = counties.columns.str.lower()  # Simplify column names\n",
    "counties.head()"
   ]
  },
  {
   "cell_type": "markdown",
   "metadata": {},
   "source": [
    "## 5. Prepare spills data\n",
    "\n",
    "This section refers to the `spills` dataframe. \n",
    "Check the outputs carefully, they will give you information you will need to use in the next exercises.\n",
    "\n",
    "### 5.A. Exploration\n",
    "\n",
    "In the next cells:\n",
    "\n",
    "a. Check the dataframe's head.\n",
    "\n",
    "b. Check the data types of the columns.\n",
    "\n",
    "c. Check the unique values in the `material_family` column.\n",
    "\n",
    "d. Check the unique values in the `county` column.\n",
    "\n",
    "You can add other cells for preliminary data exploration."
   ]
  },
  {
   "cell_type": "code",
   "execution_count": 5,
   "metadata": {},
   "outputs": [
    {
     "data": {
      "text/html": [
       "<div>\n",
       "<style scoped>\n",
       "    .dataframe tbody tr th:only-of-type {\n",
       "        vertical-align: middle;\n",
       "    }\n",
       "\n",
       "    .dataframe tbody tr th {\n",
       "        vertical-align: top;\n",
       "    }\n",
       "\n",
       "    .dataframe thead th {\n",
       "        text-align: right;\n",
       "    }\n",
       "</style>\n",
       "<table border=\"1\" class=\"dataframe\">\n",
       "  <thead>\n",
       "    <tr style=\"text-align: right;\">\n",
       "      <th></th>\n",
       "      <th>Spill Number</th>\n",
       "      <th>Program Facility Name</th>\n",
       "      <th>Street 1</th>\n",
       "      <th>Street 2</th>\n",
       "      <th>Locality</th>\n",
       "      <th>County</th>\n",
       "      <th>ZIP Code</th>\n",
       "      <th>SWIS Code</th>\n",
       "      <th>DEC Region</th>\n",
       "      <th>Spill Date</th>\n",
       "      <th>Received Date</th>\n",
       "      <th>Contributing Factor</th>\n",
       "      <th>Waterbody</th>\n",
       "      <th>Source</th>\n",
       "      <th>Close Date</th>\n",
       "      <th>Material Name</th>\n",
       "      <th>Material Family</th>\n",
       "      <th>Quantity</th>\n",
       "      <th>Units</th>\n",
       "      <th>Recovered</th>\n",
       "    </tr>\n",
       "  </thead>\n",
       "  <tbody>\n",
       "    <tr>\n",
       "      <th>0</th>\n",
       "      <td>107132</td>\n",
       "      <td>MH 864</td>\n",
       "      <td>RT 119/MILLWOOD RD</td>\n",
       "      <td>NaN</td>\n",
       "      <td>ELMSFORD</td>\n",
       "      <td>Westchester</td>\n",
       "      <td>NaN</td>\n",
       "      <td>6000</td>\n",
       "      <td>3</td>\n",
       "      <td>10/10/2001</td>\n",
       "      <td>10/10/2001</td>\n",
       "      <td>Unknown</td>\n",
       "      <td>NaN</td>\n",
       "      <td>Unknown</td>\n",
       "      <td>10/15/2001</td>\n",
       "      <td>unknown material</td>\n",
       "      <td>Other</td>\n",
       "      <td>10.0</td>\n",
       "      <td>Gallons</td>\n",
       "      <td>0.0</td>\n",
       "    </tr>\n",
       "    <tr>\n",
       "      <th>1</th>\n",
       "      <td>405586</td>\n",
       "      <td>BOWRY BAY</td>\n",
       "      <td>WATER POLL CONTROL</td>\n",
       "      <td>NaN</td>\n",
       "      <td>QUEENS</td>\n",
       "      <td>Queens</td>\n",
       "      <td>NaN</td>\n",
       "      <td>4101</td>\n",
       "      <td>2</td>\n",
       "      <td>08/21/2004</td>\n",
       "      <td>08/21/2004</td>\n",
       "      <td>Other</td>\n",
       "      <td>EAST RIVER</td>\n",
       "      <td>Unknown</td>\n",
       "      <td>09/17/2004</td>\n",
       "      <td>raw sewage</td>\n",
       "      <td>Other</td>\n",
       "      <td>0.0</td>\n",
       "      <td>NaN</td>\n",
       "      <td>0.0</td>\n",
       "    </tr>\n",
       "    <tr>\n",
       "      <th>2</th>\n",
       "      <td>405586</td>\n",
       "      <td>BOWRY BAY</td>\n",
       "      <td>WATER POLL CONTROL</td>\n",
       "      <td>NaN</td>\n",
       "      <td>QUEENS</td>\n",
       "      <td>Queens</td>\n",
       "      <td>NaN</td>\n",
       "      <td>4101</td>\n",
       "      <td>2</td>\n",
       "      <td>08/21/2004</td>\n",
       "      <td>08/21/2004</td>\n",
       "      <td>Other</td>\n",
       "      <td>EAST RIVER</td>\n",
       "      <td>Unknown</td>\n",
       "      <td>09/17/2004</td>\n",
       "      <td>raw sewage</td>\n",
       "      <td>Other</td>\n",
       "      <td>0.0</td>\n",
       "      <td>Pounds</td>\n",
       "      <td>0.0</td>\n",
       "    </tr>\n",
       "    <tr>\n",
       "      <th>3</th>\n",
       "      <td>204667</td>\n",
       "      <td>POLE 16091</td>\n",
       "      <td>GRACE AVE/BURKE AVE</td>\n",
       "      <td>NaN</td>\n",
       "      <td>BRONX</td>\n",
       "      <td>Bronx</td>\n",
       "      <td>NaN</td>\n",
       "      <td>301</td>\n",
       "      <td>2</td>\n",
       "      <td>08/02/2002</td>\n",
       "      <td>08/02/2002</td>\n",
       "      <td>Equipment Failure</td>\n",
       "      <td>NaN</td>\n",
       "      <td>Commercial/Industrial</td>\n",
       "      <td>10/28/2002</td>\n",
       "      <td>transformer oil</td>\n",
       "      <td>Petroleum</td>\n",
       "      <td>1.0</td>\n",
       "      <td>Gallons</td>\n",
       "      <td>0.0</td>\n",
       "    </tr>\n",
       "    <tr>\n",
       "      <th>4</th>\n",
       "      <td>210559</td>\n",
       "      <td>POLE ON</td>\n",
       "      <td>FERDALE LOMIS RD / RT 52</td>\n",
       "      <td>NaN</td>\n",
       "      <td>LIBERTY</td>\n",
       "      <td>Sullivan</td>\n",
       "      <td>NaN</td>\n",
       "      <td>5336</td>\n",
       "      <td>3</td>\n",
       "      <td>01/20/2003</td>\n",
       "      <td>01/20/2003</td>\n",
       "      <td>Traffic Accident</td>\n",
       "      <td>NaN</td>\n",
       "      <td>Commercial/Industrial</td>\n",
       "      <td>01/22/2003</td>\n",
       "      <td>transformer oil</td>\n",
       "      <td>Petroleum</td>\n",
       "      <td>6.0</td>\n",
       "      <td>Gallons</td>\n",
       "      <td>6.0</td>\n",
       "    </tr>\n",
       "  </tbody>\n",
       "</table>\n",
       "</div>"
      ],
      "text/plain": [
       "   Spill Number Program Facility Name                  Street 1 Street 2  \\\n",
       "0        107132                MH 864        RT 119/MILLWOOD RD      NaN   \n",
       "1        405586             BOWRY BAY        WATER POLL CONTROL      NaN   \n",
       "2        405586             BOWRY BAY        WATER POLL CONTROL      NaN   \n",
       "3        204667            POLE 16091       GRACE AVE/BURKE AVE      NaN   \n",
       "4        210559               POLE ON  FERDALE LOMIS RD / RT 52      NaN   \n",
       "\n",
       "   Locality       County ZIP Code  SWIS Code  DEC Region  Spill Date  \\\n",
       "0  ELMSFORD  Westchester      NaN       6000           3  10/10/2001   \n",
       "1    QUEENS       Queens      NaN       4101           2  08/21/2004   \n",
       "2    QUEENS       Queens      NaN       4101           2  08/21/2004   \n",
       "3     BRONX        Bronx      NaN        301           2  08/02/2002   \n",
       "4   LIBERTY     Sullivan      NaN       5336           3  01/20/2003   \n",
       "\n",
       "  Received Date Contributing Factor   Waterbody                 Source  \\\n",
       "0    10/10/2001             Unknown         NaN                Unknown   \n",
       "1    08/21/2004               Other  EAST RIVER                Unknown   \n",
       "2    08/21/2004               Other  EAST RIVER                Unknown   \n",
       "3    08/02/2002   Equipment Failure         NaN  Commercial/Industrial   \n",
       "4    01/20/2003    Traffic Accident         NaN  Commercial/Industrial   \n",
       "\n",
       "   Close Date     Material Name Material Family  Quantity    Units  Recovered  \n",
       "0  10/15/2001  unknown material           Other      10.0  Gallons        0.0  \n",
       "1  09/17/2004        raw sewage           Other       0.0      NaN        0.0  \n",
       "2  09/17/2004        raw sewage           Other       0.0   Pounds        0.0  \n",
       "3  10/28/2002   transformer oil       Petroleum       1.0  Gallons        0.0  \n",
       "4  01/22/2003   transformer oil       Petroleum       6.0  Gallons        6.0  "
      ]
     },
     "execution_count": 5,
     "metadata": {},
     "output_type": "execute_result"
    }
   ],
   "source": [
    "# a. \n",
    "# Check the first 5 rows of the spills data frame\n",
    "spills.head()"
   ]
  },
  {
   "cell_type": "code",
   "execution_count": 6,
   "metadata": {},
   "outputs": [
    {
     "data": {
      "text/plain": [
       "Spill Number               int64\n",
       "Program Facility Name     object\n",
       "Street 1                  object\n",
       "Street 2                  object\n",
       "Locality                  object\n",
       "County                    object\n",
       "ZIP Code                  object\n",
       "SWIS Code                  int64\n",
       "DEC Region                 int64\n",
       "Spill Date                object\n",
       "Received Date             object\n",
       "Contributing Factor       object\n",
       "Waterbody                 object\n",
       "Source                    object\n",
       "Close Date                object\n",
       "Material Name             object\n",
       "Material Family           object\n",
       "Quantity                 float64\n",
       "Units                     object\n",
       "Recovered                float64\n",
       "dtype: object"
      ]
     },
     "execution_count": 6,
     "metadata": {},
     "output_type": "execute_result"
    }
   ],
   "source": [
    "# b. \n",
    "# Check the data types of the spills data frames\n",
    "spills.dtypes"
   ]
  },
  {
   "cell_type": "code",
   "execution_count": 7,
   "metadata": {},
   "outputs": [
    {
     "data": {
      "text/plain": [
       "array(['Other', 'Petroleum', 'Hazardous Material', 'Oxygenates'],\n",
       "      dtype=object)"
      ]
     },
     "execution_count": 7,
     "metadata": {},
     "output_type": "execute_result"
    }
   ],
   "source": [
    "# c. \n",
    "# Check the unique values of the 'material_family' column\n",
    "# This exact label is not in the data frame, change the index value to match the actual label\n",
    "spills['Material Family'].unique() "
   ]
  },
  {
   "cell_type": "code",
   "execution_count": 8,
   "metadata": {},
   "outputs": [
    {
     "data": {
      "text/plain": [
       "array(['Westchester', 'Queens', 'Bronx', 'Sullivan', 'Cortland',\n",
       "       'New York', 'Ulster', 'Kings', 'Orange', 'Dutchess', 'Onondaga',\n",
       "       'Saratoga', 'Cayuga', 'Oswego', 'Warren', 'Niagara', 'Rockland',\n",
       "       'Nassau', 'Jefferson', 'Schenectady', 'Albany', 'Monroe',\n",
       "       'Schuyler', 'St Lawrence', 'Richmond', 'Clinton', 'Lewis', 'Essex',\n",
       "       'Chenango', 'Erie', 'Livingston', 'Wayne', 'Suffolk', 'Orleans',\n",
       "       'Ontario', 'Genesee', 'Otsego', 'Tompkins', 'Madison', 'Chemung',\n",
       "       'Seneca', 'Oneida', 'Broome', 'Hamilton', 'Washington', 'Franklin',\n",
       "       'Columbia', 'Fulton', 'Herkimer', 'Schoharie', 'Rensselaer',\n",
       "       'Montgomery', 'Putnam', 'Delaware', 'New Jersey - Region 2',\n",
       "       'Steuben', 'Tioga', 'Chautauqua', 'Cattaraugus', 'Wyoming',\n",
       "       'Yates', 'Greene', 'Pennsylvania - Region 9', 'Allegany',\n",
       "       'New Jersey - Region 3 (N)', 'Cattaraugus Indian Reservation',\n",
       "       'New Jersey - Region 3 (T)', 'Canada - Region 6',\n",
       "       'Canada - Region 9', 'Pennsylvania - Region 8',\n",
       "       'Vermont - Region 5 (R)', 'Vermont - Region 4',\n",
       "       'Connecticut - Region 3 (N)', 'Pennsylvania - Region 3',\n",
       "       'Tuscarora Indian Reservation', 'Connecticut - Region 4',\n",
       "       'Connecticut - Region 3 (T)', 'Massachusetts - Region 4',\n",
       "       'Connecticut - Region 1', 'Canada - Region 8',\n",
       "       'Oil Springs Indian Reservation', 'Canada - Region 5',\n",
       "       'Poospatuck Indian Reservation', 'Onondaga Indian Reservation',\n",
       "       'Shinnecock Indian Reservation',\n",
       "       'St. Regis Indian Reservation - Region 5',\n",
       "       'Pennsylvania - Region 7'], dtype=object)"
      ]
     },
     "execution_count": 8,
     "metadata": {},
     "output_type": "execute_result"
    }
   ],
   "source": [
    "# d. \n",
    "# Check the unique values of the 'county' column\n",
    "# This exact label is not in the data frame, change the index value to match the actual label\n",
    "spills.County.unique()"
   ]
  },
  {
   "cell_type": "code",
   "execution_count": 9,
   "metadata": {
    "tags": []
   },
   "outputs": [
    {
     "data": {
      "text/plain": [
       "(553137, 20)"
      ]
     },
     "execution_count": 9,
     "metadata": {},
     "output_type": "execute_result"
    }
   ],
   "source": [
    "# e.\n",
    "# Check the dimensions of spills\n",
    "spills.shape"
   ]
  },
  {
   "cell_type": "code",
   "execution_count": 10,
   "metadata": {
    "tags": []
   },
   "outputs": [
    {
     "data": {
      "text/plain": [
       "Spill Number                  0\n",
       "Program Facility Name         6\n",
       "Street 1                    132\n",
       "Street 2                 510137\n",
       "Locality                   1127\n",
       "County                        0\n",
       "ZIP Code                 500071\n",
       "SWIS Code                     0\n",
       "DEC Region                    0\n",
       "Spill Date                  151\n",
       "Received Date               477\n",
       "Contributing Factor           0\n",
       "Waterbody                506233\n",
       "Source                        0\n",
       "Close Date                11467\n",
       "Material Name                 0\n",
       "Material Family               0\n",
       "Quantity                      0\n",
       "Units                    110337\n",
       "Recovered                     0\n",
       "dtype: int64"
      ]
     },
     "execution_count": 10,
     "metadata": {},
     "output_type": "execute_result"
    }
   ],
   "source": [
    "# f.\n",
    "# Check to see how many NA values are in each column\n",
    "spills.isna().sum()"
   ]
  },
  {
   "cell_type": "markdown",
   "metadata": {
    "deletable": false,
    "editable": false
   },
   "source": [
    "<!-- BEGIN QUESTION -->\n",
    "\n",
    "f. Use the next markdown cell to explain what information you obtained from the preliminary exploration. Use complete sentences."
   ]
  },
  {
   "cell_type": "markdown",
   "metadata": {
    "deletable": false,
    "editable": false
   },
   "source": [
    "<!-- END QUESTION -->\n",
    "\n",
    "*Your answer here.*"
   ]
  },
  {
   "cell_type": "markdown",
   "metadata": {},
   "source": [
    "First, we found the first five rows of the spills data frame to get a general sense of what it looked like and which columns were present. Then, we found the data typoes for each individual column, this has a secondary benefit of listing any column names that may have been cut off in our 'head()'. I then found all of the unique bvalues for two columns, 'Material Family' and 'County'. Finally, I  found the dimensions of the data frame and listed the sum of all NA values for each individual column, which may be useful to know during our cleaning phase."
   ]
  },
  {
   "cell_type": "markdown",
   "metadata": {},
   "source": [
    "### 5.B. Cleaning\n",
    "a. Simplify column names as needed.\n",
    "\n",
    "b. Update column data types as needed. If you're not sure if any data types are needed at this point, you may come back later to this cell."
   ]
  },
  {
   "cell_type": "code",
   "execution_count": 11,
   "metadata": {},
   "outputs": [
    {
     "data": {
      "text/html": [
       "<div>\n",
       "<style scoped>\n",
       "    .dataframe tbody tr th:only-of-type {\n",
       "        vertical-align: middle;\n",
       "    }\n",
       "\n",
       "    .dataframe tbody tr th {\n",
       "        vertical-align: top;\n",
       "    }\n",
       "\n",
       "    .dataframe thead th {\n",
       "        text-align: right;\n",
       "    }\n",
       "</style>\n",
       "<table border=\"1\" class=\"dataframe\">\n",
       "  <thead>\n",
       "    <tr style=\"text-align: right;\">\n",
       "      <th></th>\n",
       "      <th>spill_number</th>\n",
       "      <th>program_facility_name</th>\n",
       "      <th>street_1</th>\n",
       "      <th>street_2</th>\n",
       "      <th>locality</th>\n",
       "      <th>county</th>\n",
       "      <th>zip_code</th>\n",
       "      <th>swis_code</th>\n",
       "      <th>dec_region</th>\n",
       "      <th>spill_date</th>\n",
       "      <th>received_date</th>\n",
       "      <th>contributing_factor</th>\n",
       "      <th>waterbody</th>\n",
       "      <th>source</th>\n",
       "      <th>close_date</th>\n",
       "      <th>material_name</th>\n",
       "      <th>material_family</th>\n",
       "      <th>quantity</th>\n",
       "      <th>units</th>\n",
       "      <th>recovered</th>\n",
       "    </tr>\n",
       "  </thead>\n",
       "  <tbody>\n",
       "    <tr>\n",
       "      <th>0</th>\n",
       "      <td>107132</td>\n",
       "      <td>MH 864</td>\n",
       "      <td>RT 119/MILLWOOD RD</td>\n",
       "      <td>NaN</td>\n",
       "      <td>ELMSFORD</td>\n",
       "      <td>Westchester</td>\n",
       "      <td>NaN</td>\n",
       "      <td>6000</td>\n",
       "      <td>3</td>\n",
       "      <td>10/10/2001</td>\n",
       "      <td>10/10/2001</td>\n",
       "      <td>Unknown</td>\n",
       "      <td>NaN</td>\n",
       "      <td>Unknown</td>\n",
       "      <td>10/15/2001</td>\n",
       "      <td>unknown material</td>\n",
       "      <td>Other</td>\n",
       "      <td>10.0</td>\n",
       "      <td>Gallons</td>\n",
       "      <td>0.0</td>\n",
       "    </tr>\n",
       "    <tr>\n",
       "      <th>1</th>\n",
       "      <td>405586</td>\n",
       "      <td>BOWRY BAY</td>\n",
       "      <td>WATER POLL CONTROL</td>\n",
       "      <td>NaN</td>\n",
       "      <td>QUEENS</td>\n",
       "      <td>Queens</td>\n",
       "      <td>NaN</td>\n",
       "      <td>4101</td>\n",
       "      <td>2</td>\n",
       "      <td>08/21/2004</td>\n",
       "      <td>08/21/2004</td>\n",
       "      <td>Other</td>\n",
       "      <td>EAST RIVER</td>\n",
       "      <td>Unknown</td>\n",
       "      <td>09/17/2004</td>\n",
       "      <td>raw sewage</td>\n",
       "      <td>Other</td>\n",
       "      <td>0.0</td>\n",
       "      <td>NaN</td>\n",
       "      <td>0.0</td>\n",
       "    </tr>\n",
       "    <tr>\n",
       "      <th>2</th>\n",
       "      <td>405586</td>\n",
       "      <td>BOWRY BAY</td>\n",
       "      <td>WATER POLL CONTROL</td>\n",
       "      <td>NaN</td>\n",
       "      <td>QUEENS</td>\n",
       "      <td>Queens</td>\n",
       "      <td>NaN</td>\n",
       "      <td>4101</td>\n",
       "      <td>2</td>\n",
       "      <td>08/21/2004</td>\n",
       "      <td>08/21/2004</td>\n",
       "      <td>Other</td>\n",
       "      <td>EAST RIVER</td>\n",
       "      <td>Unknown</td>\n",
       "      <td>09/17/2004</td>\n",
       "      <td>raw sewage</td>\n",
       "      <td>Other</td>\n",
       "      <td>0.0</td>\n",
       "      <td>Pounds</td>\n",
       "      <td>0.0</td>\n",
       "    </tr>\n",
       "  </tbody>\n",
       "</table>\n",
       "</div>"
      ],
      "text/plain": [
       "   spill_number program_facility_name            street_1 street_2  locality  \\\n",
       "0        107132                MH 864  RT 119/MILLWOOD RD      NaN  ELMSFORD   \n",
       "1        405586             BOWRY BAY  WATER POLL CONTROL      NaN    QUEENS   \n",
       "2        405586             BOWRY BAY  WATER POLL CONTROL      NaN    QUEENS   \n",
       "\n",
       "        county zip_code  swis_code  dec_region  spill_date received_date  \\\n",
       "0  Westchester      NaN       6000           3  10/10/2001    10/10/2001   \n",
       "1       Queens      NaN       4101           2  08/21/2004    08/21/2004   \n",
       "2       Queens      NaN       4101           2  08/21/2004    08/21/2004   \n",
       "\n",
       "  contributing_factor   waterbody   source  close_date     material_name  \\\n",
       "0             Unknown         NaN  Unknown  10/15/2001  unknown material   \n",
       "1               Other  EAST RIVER  Unknown  09/17/2004        raw sewage   \n",
       "2               Other  EAST RIVER  Unknown  09/17/2004        raw sewage   \n",
       "\n",
       "  material_family  quantity    units  recovered  \n",
       "0           Other      10.0  Gallons        0.0  \n",
       "1           Other       0.0      NaN        0.0  \n",
       "2           Other       0.0   Pounds        0.0  "
      ]
     },
     "execution_count": 11,
     "metadata": {},
     "output_type": "execute_result"
    }
   ],
   "source": [
    "# a. \n",
    "# Simplify column names by making them lowercase and replacing any spaces with underscores\n",
    "spills.columns = spills.columns.str.lower().str.replace(' ', '_')  \n",
    "\n",
    "spills.head(3)"
   ]
  },
  {
   "cell_type": "code",
   "execution_count": 12,
   "metadata": {
    "tags": []
   },
   "outputs": [],
   "source": [
    "\n",
    "# Change the NA values in the 'zip_code' column to a stand in value of 999\n",
    "spills['zip_code'] = spills['zip_code'].fillna(999)\n"
   ]
  },
  {
   "cell_type": "code",
   "execution_count": 13,
   "metadata": {
    "tags": []
   },
   "outputs": [],
   "source": [
    "#spills.zip_code = spills.zip_code.astype(int)"
   ]
  },
  {
   "cell_type": "code",
   "execution_count": 14,
   "metadata": {},
   "outputs": [],
   "source": [
    "# b. \n",
    "# Update the 'zip_code' column to a numeric data type\n",
    "\n",
    "\n",
    "# Update columns with 'date' to date_time type\n",
    "# Make a variable with a list of the relevant date columns\n",
    "date_columns = ['spill_date', 'received_date', 'close_date'] \n",
    "\n",
    "# Make a for loop to change the type \n",
    "for col in date_columns:\n",
    "    spills[col] = pd.to_datetime(spills[col])\n"
   ]
  },
  {
   "cell_type": "markdown",
   "metadata": {},
   "source": [
    "### 5.C. Data selection\n",
    "\n",
    "a. Select data about petroleum spills that took place between January 1st 2023, and October 31st 2023 (including both dates). Store it in a variable named `petr_23`. The data selection should occur in a single line. You may add cells as needed."
   ]
  },
  {
   "cell_type": "code",
   "execution_count": 15,
   "metadata": {},
   "outputs": [
    {
     "name": "stdout",
     "output_type": "stream",
     "text": [
      "2024-11-03 00:00:00\n",
      "1900-01-01 00:00:00\n"
     ]
    }
   ],
   "source": [
    "# a.\n",
    "# Find the range of dates from the 'spill_date' column\n",
    "print(spills.spill_date.max())\n",
    "print(spills.spill_date.min())\n",
    "\n",
    "# Find all the spills observations from January through February 2023\n",
    "petr_23 = spills[(spills['spill_date'] >= \"2023-01-01 00:00:00\") & (spills['spill_date'] <= \"2023-10-31 00:00:00\") & (spills['material_family'] == \"Petroleum\")]"
   ]
  },
  {
   "cell_type": "code",
   "execution_count": 16,
   "metadata": {
    "tags": []
   },
   "outputs": [
    {
     "data": {
      "text/html": [
       "<div>\n",
       "<style scoped>\n",
       "    .dataframe tbody tr th:only-of-type {\n",
       "        vertical-align: middle;\n",
       "    }\n",
       "\n",
       "    .dataframe tbody tr th {\n",
       "        vertical-align: top;\n",
       "    }\n",
       "\n",
       "    .dataframe thead th {\n",
       "        text-align: right;\n",
       "    }\n",
       "</style>\n",
       "<table border=\"1\" class=\"dataframe\">\n",
       "  <thead>\n",
       "    <tr style=\"text-align: right;\">\n",
       "      <th></th>\n",
       "      <th>spill_number</th>\n",
       "      <th>program_facility_name</th>\n",
       "      <th>street_1</th>\n",
       "      <th>street_2</th>\n",
       "      <th>locality</th>\n",
       "      <th>county</th>\n",
       "      <th>zip_code</th>\n",
       "      <th>swis_code</th>\n",
       "      <th>dec_region</th>\n",
       "      <th>spill_date</th>\n",
       "      <th>received_date</th>\n",
       "      <th>contributing_factor</th>\n",
       "      <th>waterbody</th>\n",
       "      <th>source</th>\n",
       "      <th>close_date</th>\n",
       "      <th>material_name</th>\n",
       "      <th>material_family</th>\n",
       "      <th>quantity</th>\n",
       "      <th>units</th>\n",
       "      <th>recovered</th>\n",
       "    </tr>\n",
       "  </thead>\n",
       "  <tbody>\n",
       "    <tr>\n",
       "      <th>220</th>\n",
       "      <td>2301892</td>\n",
       "      <td>*** TEST SPILL ***</td>\n",
       "      <td>*** TEST SPILL ***</td>\n",
       "      <td>NaN</td>\n",
       "      <td>*** TEST SPILL ***</td>\n",
       "      <td>Onondaga</td>\n",
       "      <td>00000</td>\n",
       "      <td>3415</td>\n",
       "      <td>7</td>\n",
       "      <td>2023-06-06</td>\n",
       "      <td>2023-06-06</td>\n",
       "      <td>Tank Test Failure</td>\n",
       "      <td>NaN</td>\n",
       "      <td>Unknown</td>\n",
       "      <td>2023-07-12</td>\n",
       "      <td>diesel</td>\n",
       "      <td>Petroleum</td>\n",
       "      <td>0.0</td>\n",
       "      <td>NaN</td>\n",
       "      <td>0.0</td>\n",
       "    </tr>\n",
       "    <tr>\n",
       "      <th>221</th>\n",
       "      <td>2301892</td>\n",
       "      <td>*** TEST SPILL ***</td>\n",
       "      <td>*** TEST SPILL ***</td>\n",
       "      <td>NaN</td>\n",
       "      <td>*** TEST SPILL ***</td>\n",
       "      <td>Onondaga</td>\n",
       "      <td>00000</td>\n",
       "      <td>3415</td>\n",
       "      <td>7</td>\n",
       "      <td>2023-06-06</td>\n",
       "      <td>2023-06-06</td>\n",
       "      <td>Tank Test Failure</td>\n",
       "      <td>NaN</td>\n",
       "      <td>Unknown</td>\n",
       "      <td>2023-07-12</td>\n",
       "      <td>#2 fuel oil</td>\n",
       "      <td>Petroleum</td>\n",
       "      <td>0.0</td>\n",
       "      <td>Gallons</td>\n",
       "      <td>0.0</td>\n",
       "    </tr>\n",
       "    <tr>\n",
       "      <th>222</th>\n",
       "      <td>2301892</td>\n",
       "      <td>*** TEST SPILL ***</td>\n",
       "      <td>*** TEST SPILL ***</td>\n",
       "      <td>NaN</td>\n",
       "      <td>*** TEST SPILL ***</td>\n",
       "      <td>Onondaga</td>\n",
       "      <td>00000</td>\n",
       "      <td>3415</td>\n",
       "      <td>7</td>\n",
       "      <td>2023-06-06</td>\n",
       "      <td>2023-06-06</td>\n",
       "      <td>Tank Test Failure</td>\n",
       "      <td>NaN</td>\n",
       "      <td>Unknown</td>\n",
       "      <td>2023-07-12</td>\n",
       "      <td>gasoline</td>\n",
       "      <td>Petroleum</td>\n",
       "      <td>0.0</td>\n",
       "      <td>NaN</td>\n",
       "      <td>0.0</td>\n",
       "    </tr>\n",
       "    <tr>\n",
       "      <th>223</th>\n",
       "      <td>2301892</td>\n",
       "      <td>*** TEST SPILL ***</td>\n",
       "      <td>*** TEST SPILL ***</td>\n",
       "      <td>NaN</td>\n",
       "      <td>*** TEST SPILL ***</td>\n",
       "      <td>Onondaga</td>\n",
       "      <td>00000</td>\n",
       "      <td>3415</td>\n",
       "      <td>7</td>\n",
       "      <td>2023-06-06</td>\n",
       "      <td>2023-06-06</td>\n",
       "      <td>Tank Test Failure</td>\n",
       "      <td>NaN</td>\n",
       "      <td>Unknown</td>\n",
       "      <td>2023-07-12</td>\n",
       "      <td>kerosene [#1 fuel oil] (on-site consumption)</td>\n",
       "      <td>Petroleum</td>\n",
       "      <td>0.0</td>\n",
       "      <td>NaN</td>\n",
       "      <td>0.0</td>\n",
       "    </tr>\n",
       "    <tr>\n",
       "      <th>224</th>\n",
       "      <td>2301892</td>\n",
       "      <td>*** TEST SPILL ***</td>\n",
       "      <td>*** TEST SPILL ***</td>\n",
       "      <td>NaN</td>\n",
       "      <td>*** TEST SPILL ***</td>\n",
       "      <td>Onondaga</td>\n",
       "      <td>00000</td>\n",
       "      <td>3415</td>\n",
       "      <td>7</td>\n",
       "      <td>2023-06-06</td>\n",
       "      <td>2023-06-06</td>\n",
       "      <td>Tank Test Failure</td>\n",
       "      <td>NaN</td>\n",
       "      <td>Unknown</td>\n",
       "      <td>2023-07-12</td>\n",
       "      <td>used oil (heating, on-site consumption)</td>\n",
       "      <td>Petroleum</td>\n",
       "      <td>0.0</td>\n",
       "      <td>NaN</td>\n",
       "      <td>0.0</td>\n",
       "    </tr>\n",
       "  </tbody>\n",
       "</table>\n",
       "</div>"
      ],
      "text/plain": [
       "     spill_number program_facility_name            street_1 street_2  \\\n",
       "220       2301892    *** TEST SPILL ***  *** TEST SPILL ***      NaN   \n",
       "221       2301892    *** TEST SPILL ***  *** TEST SPILL ***      NaN   \n",
       "222       2301892    *** TEST SPILL ***  *** TEST SPILL ***      NaN   \n",
       "223       2301892    *** TEST SPILL ***  *** TEST SPILL ***      NaN   \n",
       "224       2301892    *** TEST SPILL ***  *** TEST SPILL ***      NaN   \n",
       "\n",
       "               locality    county zip_code  swis_code  dec_region spill_date  \\\n",
       "220  *** TEST SPILL ***  Onondaga    00000       3415           7 2023-06-06   \n",
       "221  *** TEST SPILL ***  Onondaga    00000       3415           7 2023-06-06   \n",
       "222  *** TEST SPILL ***  Onondaga    00000       3415           7 2023-06-06   \n",
       "223  *** TEST SPILL ***  Onondaga    00000       3415           7 2023-06-06   \n",
       "224  *** TEST SPILL ***  Onondaga    00000       3415           7 2023-06-06   \n",
       "\n",
       "    received_date contributing_factor waterbody   source close_date  \\\n",
       "220    2023-06-06   Tank Test Failure       NaN  Unknown 2023-07-12   \n",
       "221    2023-06-06   Tank Test Failure       NaN  Unknown 2023-07-12   \n",
       "222    2023-06-06   Tank Test Failure       NaN  Unknown 2023-07-12   \n",
       "223    2023-06-06   Tank Test Failure       NaN  Unknown 2023-07-12   \n",
       "224    2023-06-06   Tank Test Failure       NaN  Unknown 2023-07-12   \n",
       "\n",
       "                                    material_name material_family  quantity  \\\n",
       "220                                        diesel       Petroleum       0.0   \n",
       "221                                   #2 fuel oil       Petroleum       0.0   \n",
       "222                                      gasoline       Petroleum       0.0   \n",
       "223  kerosene [#1 fuel oil] (on-site consumption)       Petroleum       0.0   \n",
       "224       used oil (heating, on-site consumption)       Petroleum       0.0   \n",
       "\n",
       "       units  recovered  \n",
       "220      NaN        0.0  \n",
       "221  Gallons        0.0  \n",
       "222      NaN        0.0  \n",
       "223      NaN        0.0  \n",
       "224      NaN        0.0  "
      ]
     },
     "execution_count": 16,
     "metadata": {},
     "output_type": "execute_result"
    }
   ],
   "source": [
    "petr_23.head()"
   ]
  },
  {
   "cell_type": "code",
   "execution_count": 17,
   "metadata": {},
   "outputs": [
    {
     "name": "stdout",
     "output_type": "stream",
     "text": [
      "2023-10-31 00:00:00\n",
      "2023-01-01 00:00:00\n"
     ]
    }
   ],
   "source": [
    "# Check the result\n",
    "# Find the range of dates from the 'spill_date' column of 'petr_23'\n",
    "print(petr_23.spill_date.max())\n",
    "print(petr_23.spill_date.min())"
   ]
  },
  {
   "cell_type": "markdown",
   "metadata": {
    "deletable": false,
    "editable": false
   },
   "source": [
    "<!-- BEGIN QUESTION -->\n",
    "\n",
    "b. Use `print()` and f-strings to print messages verifying that `petr_23` only has data for 2023 and from January through October.\n",
    "HINT: [pandas.Series.dt.year](https://pandas.pydata.org/docs/reference/api/pandas.Series.dt.year.html) and [pandas.Series.dt.month](https://pandas.pydata.org/docs/reference/api/pandas.Series.dt.month.html)."
   ]
  },
  {
   "cell_type": "code",
   "execution_count": 18,
   "metadata": {
    "tags": []
   },
   "outputs": [
    {
     "name": "stdout",
     "output_type": "stream",
     "text": [
      "The data of 'petr_23' contain obseravtions from the months [ 1  2  3  4  5  6  7  8  9 10] of the year [2023]\n"
     ]
    }
   ],
   "source": [
    "# b.\n",
    "# Confirm that 'petr_23' only has data for January through October, 2023\n",
    "\n",
    "# List the unique values of the 'year' column\n",
    "petr_23_year = petr_23.spill_date.dt.year.unique()\n",
    "\n",
    "# List the unique values of the month column\n",
    "petr_23_months = petr_23.spill_date.dt.month.unique()\n",
    "\n",
    "# Sort the months\n",
    "petr_23_months.sort() # Modifies in place, so it changes the original data frame\n",
    "\n",
    "print(f\"The data of 'petr_23' contain obseravtions from the months {petr_23_months} of the year {petr_23_year}\")"
   ]
  },
  {
   "cell_type": "markdown",
   "metadata": {
    "deletable": false,
    "editable": false
   },
   "source": [
    "<!-- END QUESTION -->\n",
    "\n",
    "<!-- BEGIN QUESTION -->\n",
    "\n",
    "c. Write tests using `assert` to verify that `petr_23` only has data for petroleum spills."
   ]
  },
  {
   "cell_type": "code",
   "execution_count": 19,
   "metadata": {
    "tags": []
   },
   "outputs": [],
   "source": [
    "# c. \n",
    "# Confirm that all observations are Petroleum spills\n",
    "# Find unique values and make them a list\n",
    "assert petr_23.material_family.unique().tolist()[0] == \"Petroleum\" "
   ]
  },
  {
   "cell_type": "markdown",
   "metadata": {
    "deletable": false,
    "editable": false
   },
   "source": [
    "<!-- END QUESTION -->\n",
    "\n",
    "### 5.D. Data aggregation\n",
    "\n",
    "Create new data frame named `spills_per_county` with the number of petroleum spills per county from January to October 2023 (i.e. use the `petr_23` dataframe).\n",
    "\n",
    "The resulting `spills_per_county` dataframe must be as follows:\n",
    "\n",
    "- Index: integer numbers starting from 0\n",
    "- Data frame has two columns only:\n",
    "    - Column one: county names, column name = `county`\n",
    "    - Column two: number of petroleum spills per county in 2023, column name = `n_spills`\n",
    "\n",
    "You may add cells if needed.\n"
   ]
  },
  {
   "cell_type": "code",
   "execution_count": 20,
   "metadata": {
    "tags": []
   },
   "outputs": [
    {
     "data": {
      "text/html": [
       "<div>\n",
       "<style scoped>\n",
       "    .dataframe tbody tr th:only-of-type {\n",
       "        vertical-align: middle;\n",
       "    }\n",
       "\n",
       "    .dataframe tbody tr th {\n",
       "        vertical-align: top;\n",
       "    }\n",
       "\n",
       "    .dataframe thead th {\n",
       "        text-align: right;\n",
       "    }\n",
       "</style>\n",
       "<table border=\"1\" class=\"dataframe\">\n",
       "  <thead>\n",
       "    <tr style=\"text-align: right;\">\n",
       "      <th></th>\n",
       "      <th>county</th>\n",
       "      <th>n_spills</th>\n",
       "    </tr>\n",
       "  </thead>\n",
       "  <tbody>\n",
       "    <tr>\n",
       "      <th>0</th>\n",
       "      <td>Albany</td>\n",
       "      <td>205</td>\n",
       "    </tr>\n",
       "    <tr>\n",
       "      <th>1</th>\n",
       "      <td>Allegany</td>\n",
       "      <td>30</td>\n",
       "    </tr>\n",
       "    <tr>\n",
       "      <th>2</th>\n",
       "      <td>Bronx</td>\n",
       "      <td>143</td>\n",
       "    </tr>\n",
       "  </tbody>\n",
       "</table>\n",
       "</div>"
      ],
      "text/plain": [
       "     county  n_spills\n",
       "0    Albany       205\n",
       "1  Allegany        30\n",
       "2     Bronx       143"
      ]
     },
     "execution_count": 20,
     "metadata": {},
     "output_type": "execute_result"
    }
   ],
   "source": [
    "# Make a dataframe with county names and a count of their respective spills\n",
    "spills_per_county = pd.DataFrame(petr_23.groupby('county') # Select each county\n",
    "                                 .size() # Find the number of spills\n",
    "                                 .reset_index()\n",
    "                                 .rename(columns = {0: \"n_spills\"})) \n",
    "spills_per_county.head(3)"
   ]
  },
  {
   "cell_type": "markdown",
   "metadata": {},
   "source": [
    "## 6. Prepare counties data\n",
    "\n",
    "This section refers to the `counties` geo-dataframe. \n",
    "Check the outputs carefully, they will give you context about the next exercises.\n",
    "\n",
    "### 6.A. Exploration\n",
    "\n",
    "In the next cells:\n",
    "\n",
    "a. Check the geo-dataframe's head.\n",
    "\n",
    "b. Check the data types of the columns.\n",
    "\n",
    "c. Check the geo-dataframe's CRS.\n",
    "\n",
    "d. Plot the geo-dataframe.\n",
    "\n",
    "You can add any other cells of preliminary data exploration."
   ]
  },
  {
   "cell_type": "code",
   "execution_count": 21,
   "metadata": {},
   "outputs": [
    {
     "data": {
      "text/html": [
       "<div>\n",
       "<style scoped>\n",
       "    .dataframe tbody tr th:only-of-type {\n",
       "        vertical-align: middle;\n",
       "    }\n",
       "\n",
       "    .dataframe tbody tr th {\n",
       "        vertical-align: top;\n",
       "    }\n",
       "\n",
       "    .dataframe thead th {\n",
       "        text-align: right;\n",
       "    }\n",
       "</style>\n",
       "<table border=\"1\" class=\"dataframe\">\n",
       "  <thead>\n",
       "    <tr style=\"text-align: right;\">\n",
       "      <th></th>\n",
       "      <th>statefp</th>\n",
       "      <th>countyfp</th>\n",
       "      <th>countyns</th>\n",
       "      <th>geoid</th>\n",
       "      <th>geoidfq</th>\n",
       "      <th>name</th>\n",
       "      <th>namelsad</th>\n",
       "      <th>lsad</th>\n",
       "      <th>classfp</th>\n",
       "      <th>mtfcc</th>\n",
       "      <th>csafp</th>\n",
       "      <th>cbsafp</th>\n",
       "      <th>metdivfp</th>\n",
       "      <th>funcstat</th>\n",
       "      <th>aland</th>\n",
       "      <th>awater</th>\n",
       "      <th>intptlat</th>\n",
       "      <th>intptlon</th>\n",
       "      <th>geometry</th>\n",
       "    </tr>\n",
       "  </thead>\n",
       "  <tbody>\n",
       "    <tr>\n",
       "      <th>0</th>\n",
       "      <td>31</td>\n",
       "      <td>039</td>\n",
       "      <td>00835841</td>\n",
       "      <td>31039</td>\n",
       "      <td>0500000US31039</td>\n",
       "      <td>Cuming</td>\n",
       "      <td>Cuming County</td>\n",
       "      <td>06</td>\n",
       "      <td>H1</td>\n",
       "      <td>G4020</td>\n",
       "      <td>None</td>\n",
       "      <td>None</td>\n",
       "      <td>None</td>\n",
       "      <td>A</td>\n",
       "      <td>1477563029</td>\n",
       "      <td>10772508</td>\n",
       "      <td>+41.9158651</td>\n",
       "      <td>-096.7885168</td>\n",
       "      <td>POLYGON ((-96.55515 41.91587, -96.55515 41.914...</td>\n",
       "    </tr>\n",
       "    <tr>\n",
       "      <th>1</th>\n",
       "      <td>53</td>\n",
       "      <td>069</td>\n",
       "      <td>01513275</td>\n",
       "      <td>53069</td>\n",
       "      <td>0500000US53069</td>\n",
       "      <td>Wahkiakum</td>\n",
       "      <td>Wahkiakum County</td>\n",
       "      <td>06</td>\n",
       "      <td>H1</td>\n",
       "      <td>G4020</td>\n",
       "      <td>None</td>\n",
       "      <td>None</td>\n",
       "      <td>None</td>\n",
       "      <td>A</td>\n",
       "      <td>680980771</td>\n",
       "      <td>61564427</td>\n",
       "      <td>+46.2946377</td>\n",
       "      <td>-123.4244583</td>\n",
       "      <td>POLYGON ((-123.72755 46.26449, -123.72755 46.2...</td>\n",
       "    </tr>\n",
       "    <tr>\n",
       "      <th>2</th>\n",
       "      <td>35</td>\n",
       "      <td>011</td>\n",
       "      <td>00933054</td>\n",
       "      <td>35011</td>\n",
       "      <td>0500000US35011</td>\n",
       "      <td>De Baca</td>\n",
       "      <td>De Baca County</td>\n",
       "      <td>06</td>\n",
       "      <td>H1</td>\n",
       "      <td>G4020</td>\n",
       "      <td>None</td>\n",
       "      <td>None</td>\n",
       "      <td>None</td>\n",
       "      <td>A</td>\n",
       "      <td>6016818946</td>\n",
       "      <td>29090018</td>\n",
       "      <td>+34.3592729</td>\n",
       "      <td>-104.3686961</td>\n",
       "      <td>POLYGON ((-104.89337 34.08894, -104.89337 34.0...</td>\n",
       "    </tr>\n",
       "    <tr>\n",
       "      <th>3</th>\n",
       "      <td>31</td>\n",
       "      <td>109</td>\n",
       "      <td>00835876</td>\n",
       "      <td>31109</td>\n",
       "      <td>0500000US31109</td>\n",
       "      <td>Lancaster</td>\n",
       "      <td>Lancaster County</td>\n",
       "      <td>06</td>\n",
       "      <td>H1</td>\n",
       "      <td>G4020</td>\n",
       "      <td>339</td>\n",
       "      <td>30700</td>\n",
       "      <td>None</td>\n",
       "      <td>A</td>\n",
       "      <td>2169269688</td>\n",
       "      <td>22850324</td>\n",
       "      <td>+40.7835474</td>\n",
       "      <td>-096.6886584</td>\n",
       "      <td>POLYGON ((-96.68493 40.52330, -96.69219 40.523...</td>\n",
       "    </tr>\n",
       "    <tr>\n",
       "      <th>4</th>\n",
       "      <td>31</td>\n",
       "      <td>129</td>\n",
       "      <td>00835886</td>\n",
       "      <td>31129</td>\n",
       "      <td>0500000US31129</td>\n",
       "      <td>Nuckolls</td>\n",
       "      <td>Nuckolls County</td>\n",
       "      <td>06</td>\n",
       "      <td>H1</td>\n",
       "      <td>G4020</td>\n",
       "      <td>None</td>\n",
       "      <td>None</td>\n",
       "      <td>None</td>\n",
       "      <td>A</td>\n",
       "      <td>1489645187</td>\n",
       "      <td>1718484</td>\n",
       "      <td>+40.1764918</td>\n",
       "      <td>-098.0468422</td>\n",
       "      <td>POLYGON ((-98.27370 40.11840, -98.27374 40.122...</td>\n",
       "    </tr>\n",
       "  </tbody>\n",
       "</table>\n",
       "</div>"
      ],
      "text/plain": [
       "  statefp countyfp  countyns  geoid         geoidfq       name  \\\n",
       "0      31      039  00835841  31039  0500000US31039     Cuming   \n",
       "1      53      069  01513275  53069  0500000US53069  Wahkiakum   \n",
       "2      35      011  00933054  35011  0500000US35011    De Baca   \n",
       "3      31      109  00835876  31109  0500000US31109  Lancaster   \n",
       "4      31      129  00835886  31129  0500000US31129   Nuckolls   \n",
       "\n",
       "           namelsad lsad classfp  mtfcc csafp cbsafp metdivfp funcstat  \\\n",
       "0     Cuming County   06      H1  G4020  None   None     None        A   \n",
       "1  Wahkiakum County   06      H1  G4020  None   None     None        A   \n",
       "2    De Baca County   06      H1  G4020  None   None     None        A   \n",
       "3  Lancaster County   06      H1  G4020   339  30700     None        A   \n",
       "4   Nuckolls County   06      H1  G4020  None   None     None        A   \n",
       "\n",
       "        aland    awater     intptlat      intptlon  \\\n",
       "0  1477563029  10772508  +41.9158651  -096.7885168   \n",
       "1   680980771  61564427  +46.2946377  -123.4244583   \n",
       "2  6016818946  29090018  +34.3592729  -104.3686961   \n",
       "3  2169269688  22850324  +40.7835474  -096.6886584   \n",
       "4  1489645187   1718484  +40.1764918  -098.0468422   \n",
       "\n",
       "                                            geometry  \n",
       "0  POLYGON ((-96.55515 41.91587, -96.55515 41.914...  \n",
       "1  POLYGON ((-123.72755 46.26449, -123.72755 46.2...  \n",
       "2  POLYGON ((-104.89337 34.08894, -104.89337 34.0...  \n",
       "3  POLYGON ((-96.68493 40.52330, -96.69219 40.523...  \n",
       "4  POLYGON ((-98.27370 40.11840, -98.27374 40.122...  "
      ]
     },
     "execution_count": 21,
     "metadata": {},
     "output_type": "execute_result"
    }
   ],
   "source": [
    "# a. \n",
    "# Check the first 5 rows of the counties data frame\n",
    "counties.head()"
   ]
  },
  {
   "cell_type": "code",
   "execution_count": 22,
   "metadata": {},
   "outputs": [
    {
     "data": {
      "text/plain": [
       "statefp       object\n",
       "countyfp      object\n",
       "countyns      object\n",
       "geoid         object\n",
       "geoidfq       object\n",
       "name          object\n",
       "namelsad      object\n",
       "lsad          object\n",
       "classfp       object\n",
       "mtfcc         object\n",
       "csafp         object\n",
       "cbsafp        object\n",
       "metdivfp      object\n",
       "funcstat      object\n",
       "aland          int64\n",
       "awater         int64\n",
       "intptlat      object\n",
       "intptlon      object\n",
       "geometry    geometry\n",
       "dtype: object"
      ]
     },
     "execution_count": 22,
     "metadata": {},
     "output_type": "execute_result"
    }
   ],
   "source": [
    "# b. \n",
    "# Check the data types of the counties data frame\n",
    "counties.dtypes"
   ]
  },
  {
   "cell_type": "code",
   "execution_count": 23,
   "metadata": {},
   "outputs": [
    {
     "data": {
      "text/plain": [
       "<Geographic 2D CRS: EPSG:4269>\n",
       "Name: NAD83\n",
       "Axis Info [ellipsoidal]:\n",
       "- Lat[north]: Geodetic latitude (degree)\n",
       "- Lon[east]: Geodetic longitude (degree)\n",
       "Area of Use:\n",
       "- name: North America - onshore and offshore: Canada - Alberta; British Columbia; Manitoba; New Brunswick; Newfoundland and Labrador; Northwest Territories; Nova Scotia; Nunavut; Ontario; Prince Edward Island; Quebec; Saskatchewan; Yukon. Puerto Rico. United States (USA) - Alabama; Alaska; Arizona; Arkansas; California; Colorado; Connecticut; Delaware; Florida; Georgia; Hawaii; Idaho; Illinois; Indiana; Iowa; Kansas; Kentucky; Louisiana; Maine; Maryland; Massachusetts; Michigan; Minnesota; Mississippi; Missouri; Montana; Nebraska; Nevada; New Hampshire; New Jersey; New Mexico; New York; North Carolina; North Dakota; Ohio; Oklahoma; Oregon; Pennsylvania; Rhode Island; South Carolina; South Dakota; Tennessee; Texas; Utah; Vermont; Virginia; Washington; West Virginia; Wisconsin; Wyoming. US Virgin Islands. British Virgin Islands.\n",
       "- bounds: (167.65, 14.92, -40.73, 86.45)\n",
       "Datum: North American Datum 1983\n",
       "- Ellipsoid: GRS 1980\n",
       "- Prime Meridian: Greenwich"
      ]
     },
     "execution_count": 23,
     "metadata": {},
     "output_type": "execute_result"
    }
   ],
   "source": [
    "# c.\n",
    "# Check the CRS of the counties dataframe\n",
    "counties.crs"
   ]
  },
  {
   "cell_type": "code",
   "execution_count": 24,
   "metadata": {},
   "outputs": [
    {
     "data": {
      "image/png": "[encoded data removed]",
      "text/plain": [
       "<Figure size 900x500 with 1 Axes>"
      ]
     },
     "metadata": {},
     "output_type": "display_data"
    }
   ],
   "source": [
    "# d. \n",
    "# Make quick plot of the 'counties' dataframe\n",
    "fig, ax = plt.subplots(figsize = (9, 5))\n",
    "ax.axis('off') # Remove axes for cleaner map\n",
    "counties.plot(ax = ax)\n",
    "\n",
    "plt.show()"
   ]
  },
  {
   "cell_type": "code",
   "execution_count": 25,
   "metadata": {
    "tags": []
   },
   "outputs": [
    {
     "data": {
      "text/plain": [
       "ELLIPSOID[\"GRS 1980\",6378137,298.257222101,\n",
       "    LENGTHUNIT[\"metre\",1],\n",
       "    ID[\"EPSG\",7019]]"
      ]
     },
     "execution_count": 25,
     "metadata": {},
     "output_type": "execute_result"
    }
   ],
   "source": [
    "# e.\n",
    "# Check the ellipsoid of the 'counties' dataframe\n",
    "counties.crs.ellipsoid"
   ]
  },
  {
   "cell_type": "markdown",
   "metadata": {
    "deletable": false,
    "editable": false
   },
   "source": [
    "<!-- BEGIN QUESTION -->\n",
    "\n",
    "f. Use the next markdown cell to explain what information you obtained from the preliminary exploration. Use complete sentences."
   ]
  },
  {
   "cell_type": "markdown",
   "metadata": {
    "deletable": false,
    "editable": false
   },
   "source": [
    "*Your answer here.*"
   ]
  },
  {
   "cell_type": "markdown",
   "metadata": {},
   "source": [
    "To explore the dataframe, I checked the first five rows of data with `head()` to get a general sense of what is included. Then, I found the names of each column, and their respective data type with `dtype` so I can manipulate data later. I found the coordinate reference system and ellipsoid of the 'counties' data in preparation of having to join data sets with another geo dataframe. Lastly, i made a rough map with the data to better understand it's extent.\n"
   ]
  },
  {
   "cell_type": "markdown",
   "metadata": {
    "deletable": false,
    "editable": false
   },
   "source": [
    "<!-- END QUESTION -->\n",
    "\n",
    "### 6.B. Cleaning\n",
    "\n",
    "Simplify column names as needed."
   ]
  },
  {
   "cell_type": "code",
   "execution_count": 26,
   "metadata": {},
   "outputs": [
    {
     "data": {
      "text/html": [
       "<div>\n",
       "<style scoped>\n",
       "    .dataframe tbody tr th:only-of-type {\n",
       "        vertical-align: middle;\n",
       "    }\n",
       "\n",
       "    .dataframe tbody tr th {\n",
       "        vertical-align: top;\n",
       "    }\n",
       "\n",
       "    .dataframe thead th {\n",
       "        text-align: right;\n",
       "    }\n",
       "</style>\n",
       "<table border=\"1\" class=\"dataframe\">\n",
       "  <thead>\n",
       "    <tr style=\"text-align: right;\">\n",
       "      <th></th>\n",
       "      <th>statefp</th>\n",
       "      <th>countyfp</th>\n",
       "      <th>countyns</th>\n",
       "      <th>geoid</th>\n",
       "      <th>geoidfq</th>\n",
       "      <th>name</th>\n",
       "      <th>namelsad</th>\n",
       "      <th>lsad</th>\n",
       "      <th>classfp</th>\n",
       "      <th>mtfcc</th>\n",
       "      <th>csafp</th>\n",
       "      <th>cbsafp</th>\n",
       "      <th>metdivfp</th>\n",
       "      <th>funcstat</th>\n",
       "      <th>aland</th>\n",
       "      <th>awater</th>\n",
       "      <th>intptlat</th>\n",
       "      <th>intptlon</th>\n",
       "      <th>geometry</th>\n",
       "    </tr>\n",
       "  </thead>\n",
       "  <tbody>\n",
       "    <tr>\n",
       "      <th>0</th>\n",
       "      <td>31</td>\n",
       "      <td>039</td>\n",
       "      <td>00835841</td>\n",
       "      <td>31039</td>\n",
       "      <td>0500000US31039</td>\n",
       "      <td>Cuming</td>\n",
       "      <td>Cuming County</td>\n",
       "      <td>06</td>\n",
       "      <td>H1</td>\n",
       "      <td>G4020</td>\n",
       "      <td>None</td>\n",
       "      <td>None</td>\n",
       "      <td>None</td>\n",
       "      <td>A</td>\n",
       "      <td>1477563029</td>\n",
       "      <td>10772508</td>\n",
       "      <td>+41.9158651</td>\n",
       "      <td>-096.7885168</td>\n",
       "      <td>POLYGON ((-96.55515 41.91587, -96.55515 41.914...</td>\n",
       "    </tr>\n",
       "    <tr>\n",
       "      <th>1</th>\n",
       "      <td>53</td>\n",
       "      <td>069</td>\n",
       "      <td>01513275</td>\n",
       "      <td>53069</td>\n",
       "      <td>0500000US53069</td>\n",
       "      <td>Wahkiakum</td>\n",
       "      <td>Wahkiakum County</td>\n",
       "      <td>06</td>\n",
       "      <td>H1</td>\n",
       "      <td>G4020</td>\n",
       "      <td>None</td>\n",
       "      <td>None</td>\n",
       "      <td>None</td>\n",
       "      <td>A</td>\n",
       "      <td>680980771</td>\n",
       "      <td>61564427</td>\n",
       "      <td>+46.2946377</td>\n",
       "      <td>-123.4244583</td>\n",
       "      <td>POLYGON ((-123.72755 46.26449, -123.72755 46.2...</td>\n",
       "    </tr>\n",
       "    <tr>\n",
       "      <th>2</th>\n",
       "      <td>35</td>\n",
       "      <td>011</td>\n",
       "      <td>00933054</td>\n",
       "      <td>35011</td>\n",
       "      <td>0500000US35011</td>\n",
       "      <td>De Baca</td>\n",
       "      <td>De Baca County</td>\n",
       "      <td>06</td>\n",
       "      <td>H1</td>\n",
       "      <td>G4020</td>\n",
       "      <td>None</td>\n",
       "      <td>None</td>\n",
       "      <td>None</td>\n",
       "      <td>A</td>\n",
       "      <td>6016818946</td>\n",
       "      <td>29090018</td>\n",
       "      <td>+34.3592729</td>\n",
       "      <td>-104.3686961</td>\n",
       "      <td>POLYGON ((-104.89337 34.08894, -104.89337 34.0...</td>\n",
       "    </tr>\n",
       "  </tbody>\n",
       "</table>\n",
       "</div>"
      ],
      "text/plain": [
       "  statefp countyfp  countyns  geoid         geoidfq       name  \\\n",
       "0      31      039  00835841  31039  0500000US31039     Cuming   \n",
       "1      53      069  01513275  53069  0500000US53069  Wahkiakum   \n",
       "2      35      011  00933054  35011  0500000US35011    De Baca   \n",
       "\n",
       "           namelsad lsad classfp  mtfcc csafp cbsafp metdivfp funcstat  \\\n",
       "0     Cuming County   06      H1  G4020  None   None     None        A   \n",
       "1  Wahkiakum County   06      H1  G4020  None   None     None        A   \n",
       "2    De Baca County   06      H1  G4020  None   None     None        A   \n",
       "\n",
       "        aland    awater     intptlat      intptlon  \\\n",
       "0  1477563029  10772508  +41.9158651  -096.7885168   \n",
       "1   680980771  61564427  +46.2946377  -123.4244583   \n",
       "2  6016818946  29090018  +34.3592729  -104.3686961   \n",
       "\n",
       "                                            geometry  \n",
       "0  POLYGON ((-96.55515 41.91587, -96.55515 41.914...  \n",
       "1  POLYGON ((-123.72755 46.26449, -123.72755 46.2...  \n",
       "2  POLYGON ((-104.89337 34.08894, -104.89337 34.0...  "
      ]
     },
     "execution_count": 26,
     "metadata": {},
     "output_type": "execute_result"
    }
   ],
   "source": [
    "# Column names seem to be in camel  case already\n",
    "# Run code to simplify them in case we missed something\n",
    "counties.columns = counties.columns.str.lower().str.replace(' ', '_')  \n",
    "\n",
    "counties.head(3)"
   ]
  },
  {
   "cell_type": "markdown",
   "metadata": {},
   "source": [
    "### 6.C. Data selection\n",
    "\n",
    "Select all the counties for the state of New York in a new variable `ny_counties` and plot them."
   ]
  },
  {
   "cell_type": "code",
   "execution_count": 27,
   "metadata": {},
   "outputs": [
    {
     "data": {
      "image/png": "[encoded data removed]",
      "text/plain": [
       "<Figure size 900x500 with 1 Axes>"
      ]
     },
     "metadata": {},
     "output_type": "display_data"
    }
   ],
   "source": [
    "# List all of the counties in New York\n",
    "# Find the corresponding value for New York(36) in the 'statefp' column by reading metadata\n",
    "ny_counties = counties[counties.statefp == '36']\n",
    "\n",
    "# Plot the counties\n",
    "fig, ax = plt.subplots(figsize = (9, 5))\n",
    "ax.axis('off') # Remove axes for cleaner map\n",
    "ny_counties.plot(ax = ax)\n",
    "plt.title(\"Counties of New York\")\n",
    "plt.show()"
   ]
  },
  {
   "cell_type": "markdown",
   "metadata": {},
   "source": [
    "## 7 Merging\n",
    "\n",
    "The goal of this section is to create a single dataframe with the number of spills per county and the corresponding geometries for each county.\n",
    "\n",
    "### 7.A. Explore data\n",
    "\n",
    "In the next cells:\n",
    "\n",
    "a. Print the names of counties in `ny_counties`, without repetition.\n",
    "\n",
    "b. Print the names of counties in `spills_per_county`, without repetition. Examine the differences in the outputs.\n"
   ]
  },
  {
   "cell_type": "code",
   "execution_count": 28,
   "metadata": {},
   "outputs": [
    {
     "name": "stdout",
     "output_type": "stream",
     "text": [
      "['Albany', 'Allegany', 'Bronx', 'Broome', 'Cattaraugus', 'Cayuga', 'Chautauqua', 'Chemung', 'Chenango', 'Clinton', 'Columbia', 'Cortland', 'Delaware', 'Dutchess', 'Erie', 'Essex', 'Franklin', 'Fulton', 'Genesee', 'Greene', 'Hamilton', 'Herkimer', 'Jefferson', 'Kings', 'Lewis', 'Livingston', 'Madison', 'Monroe', 'Montgomery', 'Nassau', 'New York', 'Niagara', 'Oneida', 'Onondaga', 'Ontario', 'Orange', 'Orleans', 'Oswego', 'Otsego', 'Putnam', 'Queens', 'Rensselaer', 'Richmond', 'Rockland', 'Saratoga', 'Schenectady', 'Schoharie', 'Schuyler', 'Seneca', 'St. Lawrence', 'Steuben', 'Suffolk', 'Sullivan', 'Tioga', 'Tompkins', 'Ulster', 'Warren', 'Washington', 'Wayne', 'Westchester', 'Wyoming', 'Yates']\n"
     ]
    }
   ],
   "source": [
    "# a.\n",
    "# Find all of the unique values in the 'name' column of the 'ny_counties' data frame\n",
    "ny_county_names = sorted(ny_counties.name # Sort them alphabetically\n",
    "                         .unique()\n",
    "                         )\n",
    "print(ny_county_names)"
   ]
  },
  {
   "cell_type": "code",
   "execution_count": 29,
   "metadata": {},
   "outputs": [
    {
     "name": "stdout",
     "output_type": "stream",
     "text": [
      "['Albany', 'Allegany', 'Bronx', 'Broome', 'Cattaraugus', 'Cayuga', 'Chautauqua', 'Chemung', 'Chenango', 'Clinton', 'Columbia', 'Cortland', 'Delaware', 'Dutchess', 'Erie', 'Essex', 'Franklin', 'Fulton', 'Genesee', 'Greene', 'Hamilton', 'Herkimer', 'Jefferson', 'Kings', 'Lewis', 'Livingston', 'Madison', 'Monroe', 'Montgomery', 'Nassau', 'New Jersey - Region 2', 'New York', 'Niagara', 'Oneida', 'Onondaga', 'Ontario', 'Orange', 'Orleans', 'Oswego', 'Otsego', 'Putnam', 'Queens', 'Rensselaer', 'Richmond', 'Rockland', 'Saratoga', 'Schenectady', 'Schoharie', 'Schuyler', 'Seneca', 'St Lawrence', 'Steuben', 'Suffolk', 'Sullivan', 'Tioga', 'Tompkins', 'Tuscarora Indian Reservation', 'Ulster', 'Warren', 'Washington', 'Wayne', 'Westchester', 'Wyoming', 'Yates']\n"
     ]
    }
   ],
   "source": [
    "# b.\n",
    "# Find all of the unique values in the 'county' column of the 'spills_per_county' data frame\n",
    "spills_per_county_names = sorted(spills_per_county.county # Sort them alphabetically\n",
    "                             .unique()\n",
    "                             )\n",
    "print(spills_per_county_names)"
   ]
  },
  {
   "cell_type": "markdown",
   "metadata": {},
   "source": [
    "**Differences:**\n",
    "These two lists are different lengths, it appears that they do not contain all of the same vlaues throughout. The 'spills_per_county' data frame has more values listed, and appears to have several sub categories of states, non-states, as well as non-alphanumeric characters and spaces. Further data cleaning is necessary."
   ]
  },
  {
   "cell_type": "markdown",
   "metadata": {
    "deletable": false,
    "editable": false
   },
   "source": [
    "\n",
    "\n",
    "c. Which are the county names that are in `spills_per_county`, but not in `ny_counties`? Your answer should be a list of strings\n",
    "HINT: You can use the `numpy` function [`setdiff1d()`](https://numpy.org/doc/stable/reference/generated/numpy.setdiff1d.html), pay attention to the example in the documentation. Store your answer in the `diff_names` variable. \n",
    "\n"
   ]
  },
  {
   "cell_type": "code",
   "execution_count": 30,
   "metadata": {
    "tags": []
   },
   "outputs": [
    {
     "data": {
      "text/plain": [
       "['New Jersey - Region 2', 'St Lawrence', 'Tuscarora Indian Reservation']"
      ]
     },
     "execution_count": 30,
     "metadata": {},
     "output_type": "execute_result"
    }
   ],
   "source": [
    "diff_names_spills = np.setdiff1d(spills_per_county_names, ny_county_names)\n",
    "diff_names_spills = diff_names_spills.tolist()\n",
    "diff_names_spills"
   ]
  },
  {
   "cell_type": "markdown",
   "metadata": {
    "deletable": false,
    "editable": false
   },
   "source": [
    "\n",
    "d. Which are the county names that are in `ny_counties`, but not in `spills_per_county`? Your answer should be a list of strings.\n"
   ]
  },
  {
   "cell_type": "code",
   "execution_count": 31,
   "metadata": {
    "tags": []
   },
   "outputs": [
    {
     "data": {
      "text/plain": [
       "['St. Lawrence']"
      ]
     },
     "execution_count": 31,
     "metadata": {},
     "output_type": "execute_result"
    }
   ],
   "source": [
    "diff_names_ny = np.setdiff1d(ny_county_names, spills_per_county_names )\n",
    "diff_names_ny = diff_names_ny.tolist()\n",
    "diff_names_ny"
   ]
  },
  {
   "cell_type": "markdown",
   "metadata": {},
   "source": [
    "\n",
    "\n",
    "\n",
    "e. What is the number of spills in 'Tuscarora Indian Reservation'?\n"
   ]
  },
  {
   "cell_type": "code",
   "execution_count": 32,
   "metadata": {},
   "outputs": [
    {
     "name": "stdout",
     "output_type": "stream",
     "text": [
      "There was 1 petroleum spill on the Tuscarora Indian Reservation in 2023.\n"
     ]
    }
   ],
   "source": [
    "# e. \n",
    "# Filter rows where the county is 'Tuscarora Indian Reservation'\n",
    "tuscarora_spills = spills_per_county.loc[spills_per_county['county'] == 'Tuscarora Indian Reservation', 'n_spills'].sum()\n",
    "print(\"There was\", tuscarora_spills, \"petroleum spill on the Tuscarora Indian Reservation in 2023.\")"
   ]
  },
  {
   "cell_type": "markdown",
   "metadata": {},
   "source": [
    "### 7.B. Data updates\n",
    "\n",
    "In the next cell, update 'St Lawrence' to 'St. Lawrence' in `spills_per_county` data frame and use an `assert` statement to verify that the update was successful.\n",
    "\n",
    "You may add cells if needed."
   ]
  },
  {
   "cell_type": "code",
   "execution_count": 33,
   "metadata": {},
   "outputs": [
    {
     "data": {
      "text/html": [
       "<div>\n",
       "<style scoped>\n",
       "    .dataframe tbody tr th:only-of-type {\n",
       "        vertical-align: middle;\n",
       "    }\n",
       "\n",
       "    .dataframe tbody tr th {\n",
       "        vertical-align: top;\n",
       "    }\n",
       "\n",
       "    .dataframe thead th {\n",
       "        text-align: right;\n",
       "    }\n",
       "</style>\n",
       "<table border=\"1\" class=\"dataframe\">\n",
       "  <thead>\n",
       "    <tr style=\"text-align: right;\">\n",
       "      <th></th>\n",
       "      <th>county</th>\n",
       "      <th>n_spills</th>\n",
       "    </tr>\n",
       "  </thead>\n",
       "  <tbody>\n",
       "    <tr>\n",
       "      <th>50</th>\n",
       "      <td>St Lawrence</td>\n",
       "      <td>65</td>\n",
       "    </tr>\n",
       "  </tbody>\n",
       "</table>\n",
       "</div>"
      ],
      "text/plain": [
       "         county  n_spills\n",
       "50  St Lawrence        65"
      ]
     },
     "execution_count": 33,
     "metadata": {},
     "output_type": "execute_result"
    }
   ],
   "source": [
    "# Locate the row(s) that have the specific string 'St Lawrence' value in the 'county' column\n",
    "spills_per_county.loc[spills_per_county['county'] == 'St Lawrence', :] "
   ]
  },
  {
   "cell_type": "code",
   "execution_count": 34,
   "metadata": {},
   "outputs": [],
   "source": [
    "# Change the string to 'St.Lawrence'\n",
    "spills_per_county.at[50,0] = 'St.Lawrence'"
   ]
  },
  {
   "cell_type": "code",
   "execution_count": 35,
   "metadata": {},
   "outputs": [],
   "source": [
    "# Assert that the value at row index 1 and column 'county' is 'St.Lawrence'\n",
    "assert spills_per_county.at[50, 0] == 'St.Lawrence'"
   ]
  },
  {
   "cell_type": "markdown",
   "metadata": {},
   "source": [
    "### 7.C. Merge\n",
    "\n",
    "In the following cells:\n",
    "\n",
    "a. Use this cell to make any other updates needed for making an inner join of the `spills_per_county` and `ny_counties`. \n",
    "\n",
    "b. Over-write `ny_counties` as the  inner join of the `spills_per_county` and `ny_counties` dataframes.\n"
   ]
  },
  {
   "cell_type": "code",
   "execution_count": 36,
   "metadata": {},
   "outputs": [
    {
     "data": {
      "text/html": [
       "<div>\n",
       "<style scoped>\n",
       "    .dataframe tbody tr th:only-of-type {\n",
       "        vertical-align: middle;\n",
       "    }\n",
       "\n",
       "    .dataframe tbody tr th {\n",
       "        vertical-align: top;\n",
       "    }\n",
       "\n",
       "    .dataframe thead th {\n",
       "        text-align: right;\n",
       "    }\n",
       "</style>\n",
       "<table border=\"1\" class=\"dataframe\">\n",
       "  <thead>\n",
       "    <tr style=\"text-align: right;\">\n",
       "      <th></th>\n",
       "      <th>statefp</th>\n",
       "      <th>countyfp</th>\n",
       "      <th>countyns</th>\n",
       "      <th>geoid</th>\n",
       "      <th>geoidfq</th>\n",
       "      <th>county</th>\n",
       "      <th>namelsad</th>\n",
       "      <th>lsad</th>\n",
       "      <th>classfp</th>\n",
       "      <th>mtfcc</th>\n",
       "      <th>csafp</th>\n",
       "      <th>cbsafp</th>\n",
       "      <th>metdivfp</th>\n",
       "      <th>funcstat</th>\n",
       "      <th>aland</th>\n",
       "      <th>awater</th>\n",
       "      <th>intptlat</th>\n",
       "      <th>intptlon</th>\n",
       "      <th>geometry</th>\n",
       "    </tr>\n",
       "  </thead>\n",
       "  <tbody>\n",
       "    <tr>\n",
       "      <th>46</th>\n",
       "      <td>36</td>\n",
       "      <td>101</td>\n",
       "      <td>00974148</td>\n",
       "      <td>36101</td>\n",
       "      <td>0500000US36101</td>\n",
       "      <td>Steuben</td>\n",
       "      <td>Steuben County</td>\n",
       "      <td>06</td>\n",
       "      <td>H1</td>\n",
       "      <td>G4020</td>\n",
       "      <td>236</td>\n",
       "      <td>18500</td>\n",
       "      <td>None</td>\n",
       "      <td>A</td>\n",
       "      <td>3601398422</td>\n",
       "      <td>35039875</td>\n",
       "      <td>+42.2667252</td>\n",
       "      <td>-077.3855253</td>\n",
       "      <td>POLYGON ((-77.08327 42.00002, -77.09391 41.999...</td>\n",
       "    </tr>\n",
       "    <tr>\n",
       "      <th>165</th>\n",
       "      <td>36</td>\n",
       "      <td>091</td>\n",
       "      <td>00974143</td>\n",
       "      <td>36091</td>\n",
       "      <td>0500000US36091</td>\n",
       "      <td>Saratoga</td>\n",
       "      <td>Saratoga County</td>\n",
       "      <td>06</td>\n",
       "      <td>H1</td>\n",
       "      <td>G4020</td>\n",
       "      <td>104</td>\n",
       "      <td>10580</td>\n",
       "      <td>None</td>\n",
       "      <td>A</td>\n",
       "      <td>2097812305</td>\n",
       "      <td>87488004</td>\n",
       "      <td>+43.1061353</td>\n",
       "      <td>-073.8553872</td>\n",
       "      <td>POLYGON ((-73.67891 42.91221, -73.67938 42.911...</td>\n",
       "    </tr>\n",
       "    <tr>\n",
       "      <th>173</th>\n",
       "      <td>36</td>\n",
       "      <td>003</td>\n",
       "      <td>00974100</td>\n",
       "      <td>36003</td>\n",
       "      <td>0500000US36003</td>\n",
       "      <td>Allegany</td>\n",
       "      <td>Allegany County</td>\n",
       "      <td>06</td>\n",
       "      <td>H1</td>\n",
       "      <td>G4020</td>\n",
       "      <td>None</td>\n",
       "      <td>None</td>\n",
       "      <td>None</td>\n",
       "      <td>A</td>\n",
       "      <td>2666409356</td>\n",
       "      <td>12990521</td>\n",
       "      <td>+42.2478532</td>\n",
       "      <td>-078.0261531</td>\n",
       "      <td>POLYGON ((-78.04342 42.51846, -78.04326 42.518...</td>\n",
       "    </tr>\n",
       "  </tbody>\n",
       "</table>\n",
       "</div>"
      ],
      "text/plain": [
       "    statefp countyfp  countyns  geoid         geoidfq    county  \\\n",
       "46       36      101  00974148  36101  0500000US36101   Steuben   \n",
       "165      36      091  00974143  36091  0500000US36091  Saratoga   \n",
       "173      36      003  00974100  36003  0500000US36003  Allegany   \n",
       "\n",
       "            namelsad lsad classfp  mtfcc csafp cbsafp metdivfp funcstat  \\\n",
       "46    Steuben County   06      H1  G4020   236  18500     None        A   \n",
       "165  Saratoga County   06      H1  G4020   104  10580     None        A   \n",
       "173  Allegany County   06      H1  G4020  None   None     None        A   \n",
       "\n",
       "          aland    awater     intptlat      intptlon  \\\n",
       "46   3601398422  35039875  +42.2667252  -077.3855253   \n",
       "165  2097812305  87488004  +43.1061353  -073.8553872   \n",
       "173  2666409356  12990521  +42.2478532  -078.0261531   \n",
       "\n",
       "                                              geometry  \n",
       "46   POLYGON ((-77.08327 42.00002, -77.09391 41.999...  \n",
       "165  POLYGON ((-73.67891 42.91221, -73.67938 42.911...  \n",
       "173  POLYGON ((-78.04342 42.51846, -78.04326 42.518...  "
      ]
     },
     "execution_count": 36,
     "metadata": {},
     "output_type": "execute_result"
    }
   ],
   "source": [
    "# a. \n",
    "# Change the name of the 'name' column in 'ny_counties' to 'county' so that both data frames have a common column\n",
    "ny_counties = ny_counties.rename(columns={'name': 'county'})\n",
    "ny_counties.head(3)"
   ]
  },
  {
   "cell_type": "code",
   "execution_count": 37,
   "metadata": {},
   "outputs": [],
   "source": [
    "# b. \n",
    "# Combine 'spills_per_county' into 'ny_counties' with an inner join\n",
    "ny_counties = pd.merge(spills_per_county, ny_counties, how = 'inner', on = 'county')"
   ]
  },
  {
   "cell_type": "markdown",
   "metadata": {},
   "source": [
    "\n",
    "From our previous exploration we know that Tuscarora Indian Reservation will not be in the join. Tuscarora Indian Reservation is located within Niagara county. \n",
    "\n",
    "c. Since the Tuscarora Indian Reservation does not appear in the `ny_counties` dataframe, add one spill to Niagara county. Add the cells you need to make this update **and** verify that the dataframe was updated."
   ]
  },
  {
   "cell_type": "code",
   "execution_count": 43,
   "metadata": {},
   "outputs": [],
   "source": [
    "# c. \n",
    "# Find the row that contains 'Niagra' county\n",
    "n_spill_niagra_index = ny_counties[ny_counties['county'] == 'Niagara'].index[0] \n"
   ]
  },
  {
   "cell_type": "code",
   "execution_count": 44,
   "metadata": {},
   "outputs": [],
   "source": [
    "# Add one to the value of \"Niagara' county\n",
    "ny_counties.at[n_spill_niagra_index, \"n_spills\"] += 1"
   ]
  },
  {
   "cell_type": "code",
   "execution_count": null,
   "metadata": {},
   "outputs": [],
   "source": [
    "# Assert that the value for 'Niagra' increased by 1\n",
    "##assert spills_per_county.at[50, 0] == 'St.Lawrence'"
   ]
  },
  {
   "cell_type": "markdown",
   "metadata": {
    "deletable": false,
    "editable": false
   },
   "source": [
    "<!-- BEGIN QUESTION -->\n",
    "\n",
    "## 8. Map\n",
    "a. Create a choropleth map of the number of petroleum spills per county in the state of New York in 2023. \n",
    "Your map should be polished and have (at least) the following updates:\n",
    "- a legend indicating the number of spills\n",
    "- an updated color map\n",
    "- a title \n",
    "- no axis\n",
    "- an [annotation](https://matplotlib.org/stable/api/_as_gen/matplotlib.pyplot.annotate.html) with the data source (New York State Department of Environmental Conservation) and date of access.\n",
    "\n"
   ]
  },
  {
   "cell_type": "code",
   "execution_count": null,
   "metadata": {
    "tags": []
   },
   "outputs": [],
   "source": [
    "# a. \n",
    "\n",
    "gdf.merge"
   ]
  },
  {
   "cell_type": "markdown",
   "metadata": {
    "deletable": false,
    "editable": false
   },
   "source": [
    "<!-- END QUESTION -->\n",
    "\n",
    "<!-- BEGIN QUESTION -->\n",
    "\n",
    "b. Write a figure description for the map, including tha names of the top 3 counties with the most petroleum spills. If you need to do additional data analysis to include relevant information from the data, you may include additional code cells here."
   ]
  },
  {
   "cell_type": "markdown",
   "metadata": {},
   "source": [
    "*Your answer here*"
   ]
  }
 ],
 "metadata": {
  "kernelspec": {
   "display_name": "Anaconda 3 (EDS220)",
   "language": "python",
   "name": "eds220-env"
  },
  "language_info": {
   "codemirror_mode": {
    "name": "ipython",
    "version": 3
   },
   "file_extension": ".py",
   "mimetype": "text/x-python",
   "name": "python",
   "nbconvert_exporter": "python",
   "pygments_lexer": "ipython3",
   "version": "3.11.4"
  },
  "vscode": {
   "interpreter": {
    "hash": "0f97f47f74ab0b040131b6681dd542ab9cd7e1dcd971bc09e899dabc517362fa"
   }
  }
 },
 "nbformat": 4,
 "nbformat_minor": 4
}
